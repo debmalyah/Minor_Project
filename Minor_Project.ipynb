{
  "cells": [
    {
      "cell_type": "markdown",
      "metadata": {
        "id": "9_sfvHCDOfaa"
      },
      "source": [
        "# ***Minor*** ***Project***"
      ]
    },
    {
      "cell_type": "markdown",
      "source": [
        "#Project Statement : Car Price Prediction Analysis "
      ],
      "metadata": {
        "id": "TY5LNWu9Yy7q"
      }
    },
    {
      "cell_type": "markdown",
      "metadata": {
        "id": "fGv1De3nOpCp"
      },
      "source": [
        "###Project Guide : Dr. Sanjay Goswami \n",
        "### Team Leader : Debmalya Halder\n",
        "### Team Members : Avirup Chowdhury , Subhajit Das , Naishadh Gupta , Ananga Mohon Das \n"
      ]
    },
    {
      "cell_type": "markdown",
      "source": [
        "#About the domian : \n",
        "Data science is a field that uses concepts of statistics and programming ,  algorithms and systems to extract knowledge and insights from noisy, structured and unstructured data , insights from data across a broad range of application domains which will further help corporates to gain more business. And there comes the concept of Business Analytics . It is a set of disciplines and technologies for solving business problems using data analysis, statistical models and other quantitative methods. "
      ],
      "metadata": {
        "id": "FkvjK4Y0YRBu"
      }
    },
    {
      "cell_type": "markdown",
      "source": [
        "###Objective : Data science helps businesses to get insights and trends from collected data and using those insights and analysis, customers can easily get an idea about the ongoing market price and trends. We choose this project because there are few car dealers or brokers who manipulate the market for their own profit and scam the buyers. So our team thought about making a car price prediction analysis to give a clear picture , what are the driving features that can affect the car price and how are those features affecting the price. "
      ],
      "metadata": {
        "id": "ERHlzob52FWw"
      }
    },
    {
      "cell_type": "markdown",
      "source": [
        "\n",
        "####We choose google collab because it is a cloud platform and the notebook can be accessed by all our team members at the same time. All the necessary libaries were imported, google drive and the dataset was connected to the notebook.  \n"
      ],
      "metadata": {
        "id": "wGHV_Rt9ZGer"
      }
    },
    {
      "cell_type": "code",
      "execution_count": 1,
      "metadata": {
        "id": "Vh8KmEPD8IkR"
      },
      "outputs": [],
      "source": [
        "#importing libaries needed for the project \n",
        "import pandas as pd\n",
        "import numpy as np\n",
        "import matplotlib.pyplot as plt\n",
        "from mpl_toolkits import mplot3d\n",
        "import csv \n",
        "from sklearn.model_selection import train_test_split\n",
        "from sklearn.linear_model import LinearRegression\n",
        "from sklearn import metrics\n",
        "from sklearn.tree import DecisionTreeRegressor\n",
        "from sklearn.tree import DecisionTreeClassifier\n",
        "from sklearn.metrics import mean_absolute_error\n",
        "from sklearn import linear_model\n",
        "from scipy import stats\n",
        "%matplotlib inline "
      ]
    },
    {
      "cell_type": "code",
      "execution_count": 2,
      "metadata": {
        "id": "ChsBHEdFBJRr"
      },
      "outputs": [],
      "source": [
        "!pip install -U -q PyDrive\n",
        "  \n",
        "from pydrive.auth import GoogleAuth\n",
        "from pydrive.drive import GoogleDrive\n",
        "from google.colab import auth\n",
        "from oauth2client.client import GoogleCredentials\n",
        "  \n",
        "  \n",
        "# Authenticate and create the PyDrive client.\n",
        "auth.authenticate_user()\n",
        "gauth = GoogleAuth()\n",
        "gauth.credentials = GoogleCredentials.get_application_default()\n",
        "drive = GoogleDrive(gauth)"
      ]
    },
    {
      "cell_type": "code",
      "execution_count": 3,
      "metadata": {
        "colab": {
          "base_uri": "https://localhost:8080/"
        },
        "id": "309PRuSRaY7i",
        "outputId": "b3ab899f-ed58-4a9e-d2af-6ed15d44f3be"
      },
      "outputs": [
        {
          "output_type": "stream",
          "name": "stdout",
          "text": [
            "      ID      Company     Model  ... Horsepower (kw)  Year Price (Lakhs)\n",
            "0      1       Maruti      Alto  ...              32  2010           1.2\n",
            "1      2       Maruti   Wagon R  ...              46  2011           3.0\n",
            "2      3       Maruti   Wagon R  ...              46  2018           4.0\n",
            "3      4       Maruti    Ertiga  ...              73  2012           5.1\n",
            "4      5       Maruti    Ertiga  ...              73  2012           4.0\n",
            "..   ...          ...       ...  ...             ...   ...           ...\n",
            "145  146  Rolls Royce   Phantom  ...             417  2016         189.0\n",
            "146  147  Rolls Royce     Ghost  ...             430  2019         370.0\n",
            "147  148  Rolls Royce  Cullinan  ...             430  2016         495.0\n",
            "148  149  Rolls Royce  Cullinan  ...             430  2015         280.0\n",
            "149  150  Rolls Royce      Dawn  ...             420  2017         292.0\n",
            "\n",
            "[150 rows x 13 columns]\n"
          ]
        }
      ],
      "source": [
        "link = 'https://drive.google.com/file/d/1Z1ll5wZl6VK5ffan12PjK5B0dIIgYWFm/view?usp=sharing'\n",
        "  \n",
        "import pandas as pd\n",
        "  \n",
        "# to get the id part of the file\n",
        "id = link.split(\"/\")[-2]\n",
        "  \n",
        "downloaded = drive.CreateFile({'id':id}) \n",
        "downloaded.GetContentFile('CarPriceDataset_Final.csv')  \n",
        "  \n",
        "df = pd.read_csv('CarPriceDataset_Final.csv')\n",
        "print(df)"
      ]
    },
    {
      "cell_type": "code",
      "execution_count": 4,
      "metadata": {
        "colab": {
          "base_uri": "https://localhost:8080/",
          "height": 206
        },
        "id": "Pc0cNpsAk_pL",
        "outputId": "21e0450d-c907-4f42-b0b2-faa02a267695"
      },
      "outputs": [
        {
          "output_type": "execute_result",
          "data": {
            "text/html": [
              "\n",
              "  <div id=\"df-0705939c-7a17-4ecc-8de1-80f05c7c416d\">\n",
              "    <div class=\"colab-df-container\">\n",
              "      <div>\n",
              "<style scoped>\n",
              "    .dataframe tbody tr th:only-of-type {\n",
              "        vertical-align: middle;\n",
              "    }\n",
              "\n",
              "    .dataframe tbody tr th {\n",
              "        vertical-align: top;\n",
              "    }\n",
              "\n",
              "    .dataframe thead th {\n",
              "        text-align: right;\n",
              "    }\n",
              "</style>\n",
              "<table border=\"1\" class=\"dataframe\">\n",
              "  <thead>\n",
              "    <tr style=\"text-align: right;\">\n",
              "      <th></th>\n",
              "      <th>ID</th>\n",
              "      <th>Company</th>\n",
              "      <th>Model</th>\n",
              "      <th>Type</th>\n",
              "      <th>Fuel</th>\n",
              "      <th>Transmission</th>\n",
              "      <th>Engine</th>\n",
              "      <th>Mileage</th>\n",
              "      <th>Kms_driven</th>\n",
              "      <th>Buyers</th>\n",
              "      <th>Horsepower (kw)</th>\n",
              "      <th>Year</th>\n",
              "      <th>Price (Lakhs)</th>\n",
              "    </tr>\n",
              "  </thead>\n",
              "  <tbody>\n",
              "    <tr>\n",
              "      <th>0</th>\n",
              "      <td>1</td>\n",
              "      <td>Maruti</td>\n",
              "      <td>Alto</td>\n",
              "      <td>Hatchback</td>\n",
              "      <td>Petrol</td>\n",
              "      <td>Manual</td>\n",
              "      <td>796</td>\n",
              "      <td>19.7</td>\n",
              "      <td>45000</td>\n",
              "      <td>2</td>\n",
              "      <td>32</td>\n",
              "      <td>2010</td>\n",
              "      <td>1.2</td>\n",
              "    </tr>\n",
              "    <tr>\n",
              "      <th>1</th>\n",
              "      <td>2</td>\n",
              "      <td>Maruti</td>\n",
              "      <td>Wagon R</td>\n",
              "      <td>Hatchback</td>\n",
              "      <td>Petrol</td>\n",
              "      <td>Manual</td>\n",
              "      <td>998</td>\n",
              "      <td>20.5</td>\n",
              "      <td>40005</td>\n",
              "      <td>2</td>\n",
              "      <td>46</td>\n",
              "      <td>2011</td>\n",
              "      <td>3.0</td>\n",
              "    </tr>\n",
              "    <tr>\n",
              "      <th>2</th>\n",
              "      <td>3</td>\n",
              "      <td>Maruti</td>\n",
              "      <td>Wagon R</td>\n",
              "      <td>Hatchback</td>\n",
              "      <td>Petrol</td>\n",
              "      <td>Manual</td>\n",
              "      <td>998</td>\n",
              "      <td>20.5</td>\n",
              "      <td>40005</td>\n",
              "      <td>2</td>\n",
              "      <td>46</td>\n",
              "      <td>2018</td>\n",
              "      <td>4.0</td>\n",
              "    </tr>\n",
              "    <tr>\n",
              "      <th>3</th>\n",
              "      <td>4</td>\n",
              "      <td>Maruti</td>\n",
              "      <td>Ertiga</td>\n",
              "      <td>MUV</td>\n",
              "      <td>Petrol</td>\n",
              "      <td>Automatic</td>\n",
              "      <td>1462</td>\n",
              "      <td>18.5</td>\n",
              "      <td>28000</td>\n",
              "      <td>2</td>\n",
              "      <td>73</td>\n",
              "      <td>2012</td>\n",
              "      <td>5.1</td>\n",
              "    </tr>\n",
              "    <tr>\n",
              "      <th>4</th>\n",
              "      <td>5</td>\n",
              "      <td>Maruti</td>\n",
              "      <td>Ertiga</td>\n",
              "      <td>MUV</td>\n",
              "      <td>Petrol</td>\n",
              "      <td>Automatic</td>\n",
              "      <td>1462</td>\n",
              "      <td>18.5</td>\n",
              "      <td>40000</td>\n",
              "      <td>2</td>\n",
              "      <td>73</td>\n",
              "      <td>2012</td>\n",
              "      <td>4.0</td>\n",
              "    </tr>\n",
              "  </tbody>\n",
              "</table>\n",
              "</div>\n",
              "      <button class=\"colab-df-convert\" onclick=\"convertToInteractive('df-0705939c-7a17-4ecc-8de1-80f05c7c416d')\"\n",
              "              title=\"Convert this dataframe to an interactive table.\"\n",
              "              style=\"display:none;\">\n",
              "        \n",
              "  <svg xmlns=\"http://www.w3.org/2000/svg\" height=\"24px\"viewBox=\"0 0 24 24\"\n",
              "       width=\"24px\">\n",
              "    <path d=\"M0 0h24v24H0V0z\" fill=\"none\"/>\n",
              "    <path d=\"M18.56 5.44l.94 2.06.94-2.06 2.06-.94-2.06-.94-.94-2.06-.94 2.06-2.06.94zm-11 1L8.5 8.5l.94-2.06 2.06-.94-2.06-.94L8.5 2.5l-.94 2.06-2.06.94zm10 10l.94 2.06.94-2.06 2.06-.94-2.06-.94-.94-2.06-.94 2.06-2.06.94z\"/><path d=\"M17.41 7.96l-1.37-1.37c-.4-.4-.92-.59-1.43-.59-.52 0-1.04.2-1.43.59L10.3 9.45l-7.72 7.72c-.78.78-.78 2.05 0 2.83L4 21.41c.39.39.9.59 1.41.59.51 0 1.02-.2 1.41-.59l7.78-7.78 2.81-2.81c.8-.78.8-2.07 0-2.86zM5.41 20L4 18.59l7.72-7.72 1.47 1.35L5.41 20z\"/>\n",
              "  </svg>\n",
              "      </button>\n",
              "      \n",
              "  <style>\n",
              "    .colab-df-container {\n",
              "      display:flex;\n",
              "      flex-wrap:wrap;\n",
              "      gap: 12px;\n",
              "    }\n",
              "\n",
              "    .colab-df-convert {\n",
              "      background-color: #E8F0FE;\n",
              "      border: none;\n",
              "      border-radius: 50%;\n",
              "      cursor: pointer;\n",
              "      display: none;\n",
              "      fill: #1967D2;\n",
              "      height: 32px;\n",
              "      padding: 0 0 0 0;\n",
              "      width: 32px;\n",
              "    }\n",
              "\n",
              "    .colab-df-convert:hover {\n",
              "      background-color: #E2EBFA;\n",
              "      box-shadow: 0px 1px 2px rgba(60, 64, 67, 0.3), 0px 1px 3px 1px rgba(60, 64, 67, 0.15);\n",
              "      fill: #174EA6;\n",
              "    }\n",
              "\n",
              "    [theme=dark] .colab-df-convert {\n",
              "      background-color: #3B4455;\n",
              "      fill: #D2E3FC;\n",
              "    }\n",
              "\n",
              "    [theme=dark] .colab-df-convert:hover {\n",
              "      background-color: #434B5C;\n",
              "      box-shadow: 0px 1px 3px 1px rgba(0, 0, 0, 0.15);\n",
              "      filter: drop-shadow(0px 1px 2px rgba(0, 0, 0, 0.3));\n",
              "      fill: #FFFFFF;\n",
              "    }\n",
              "  </style>\n",
              "\n",
              "      <script>\n",
              "        const buttonEl =\n",
              "          document.querySelector('#df-0705939c-7a17-4ecc-8de1-80f05c7c416d button.colab-df-convert');\n",
              "        buttonEl.style.display =\n",
              "          google.colab.kernel.accessAllowed ? 'block' : 'none';\n",
              "\n",
              "        async function convertToInteractive(key) {\n",
              "          const element = document.querySelector('#df-0705939c-7a17-4ecc-8de1-80f05c7c416d');\n",
              "          const dataTable =\n",
              "            await google.colab.kernel.invokeFunction('convertToInteractive',\n",
              "                                                     [key], {});\n",
              "          if (!dataTable) return;\n",
              "\n",
              "          const docLinkHtml = 'Like what you see? Visit the ' +\n",
              "            '<a target=\"_blank\" href=https://colab.research.google.com/notebooks/data_table.ipynb>data table notebook</a>'\n",
              "            + ' to learn more about interactive tables.';\n",
              "          element.innerHTML = '';\n",
              "          dataTable['output_type'] = 'display_data';\n",
              "          await google.colab.output.renderOutput(dataTable, element);\n",
              "          const docLink = document.createElement('div');\n",
              "          docLink.innerHTML = docLinkHtml;\n",
              "          element.appendChild(docLink);\n",
              "        }\n",
              "      </script>\n",
              "    </div>\n",
              "  </div>\n",
              "  "
            ],
            "text/plain": [
              "   ID Company    Model       Type  ... Buyers Horsepower (kw)  Year  Price (Lakhs)\n",
              "0   1  Maruti     Alto  Hatchback  ...      2              32  2010            1.2\n",
              "1   2  Maruti  Wagon R  Hatchback  ...      2              46  2011            3.0\n",
              "2   3  Maruti  Wagon R  Hatchback  ...      2              46  2018            4.0\n",
              "3   4  Maruti   Ertiga        MUV  ...      2              73  2012            5.1\n",
              "4   5  Maruti   Ertiga        MUV  ...      2              73  2012            4.0\n",
              "\n",
              "[5 rows x 13 columns]"
            ]
          },
          "metadata": {},
          "execution_count": 4
        }
      ],
      "source": [
        "# inspecting the first 5 rows of the dataframe\n",
        "df.head()"
      ]
    },
    {
      "cell_type": "code",
      "execution_count": 5,
      "metadata": {
        "colab": {
          "base_uri": "https://localhost:8080/",
          "height": 300
        },
        "id": "8wak8-CmlRIH",
        "outputId": "66fd600c-0951-480d-9c86-90ba665909d3"
      },
      "outputs": [
        {
          "output_type": "execute_result",
          "data": {
            "text/html": [
              "\n",
              "  <div id=\"df-ea52319f-7910-4bf0-89d3-c8e6a0ae60c9\">\n",
              "    <div class=\"colab-df-container\">\n",
              "      <div>\n",
              "<style scoped>\n",
              "    .dataframe tbody tr th:only-of-type {\n",
              "        vertical-align: middle;\n",
              "    }\n",
              "\n",
              "    .dataframe tbody tr th {\n",
              "        vertical-align: top;\n",
              "    }\n",
              "\n",
              "    .dataframe thead th {\n",
              "        text-align: right;\n",
              "    }\n",
              "</style>\n",
              "<table border=\"1\" class=\"dataframe\">\n",
              "  <thead>\n",
              "    <tr style=\"text-align: right;\">\n",
              "      <th></th>\n",
              "      <th>ID</th>\n",
              "      <th>Engine</th>\n",
              "      <th>Mileage</th>\n",
              "      <th>Kms_driven</th>\n",
              "      <th>Buyers</th>\n",
              "      <th>Horsepower (kw)</th>\n",
              "      <th>Year</th>\n",
              "      <th>Price (Lakhs)</th>\n",
              "    </tr>\n",
              "  </thead>\n",
              "  <tbody>\n",
              "    <tr>\n",
              "      <th>count</th>\n",
              "      <td>150.000000</td>\n",
              "      <td>150.000000</td>\n",
              "      <td>147.000000</td>\n",
              "      <td>150.000000</td>\n",
              "      <td>150.000000</td>\n",
              "      <td>150.000000</td>\n",
              "      <td>150.000000</td>\n",
              "      <td>150.000000</td>\n",
              "    </tr>\n",
              "    <tr>\n",
              "      <th>mean</th>\n",
              "      <td>75.500000</td>\n",
              "      <td>2573.346667</td>\n",
              "      <td>15.870748</td>\n",
              "      <td>36673.753333</td>\n",
              "      <td>2.320000</td>\n",
              "      <td>222.046667</td>\n",
              "      <td>2015.553333</td>\n",
              "      <td>62.030733</td>\n",
              "    </tr>\n",
              "    <tr>\n",
              "      <th>std</th>\n",
              "      <td>43.445368</td>\n",
              "      <td>1687.191300</td>\n",
              "      <td>6.884811</td>\n",
              "      <td>19426.665542</td>\n",
              "      <td>0.698224</td>\n",
              "      <td>209.008312</td>\n",
              "      <td>3.398651</td>\n",
              "      <td>98.571347</td>\n",
              "    </tr>\n",
              "    <tr>\n",
              "      <th>min</th>\n",
              "      <td>1.000000</td>\n",
              "      <td>0.000000</td>\n",
              "      <td>3.800000</td>\n",
              "      <td>3600.000000</td>\n",
              "      <td>2.000000</td>\n",
              "      <td>27.000000</td>\n",
              "      <td>2005.000000</td>\n",
              "      <td>0.800000</td>\n",
              "    </tr>\n",
              "    <tr>\n",
              "      <th>25%</th>\n",
              "      <td>38.250000</td>\n",
              "      <td>1462.000000</td>\n",
              "      <td>10.430000</td>\n",
              "      <td>23721.500000</td>\n",
              "      <td>2.000000</td>\n",
              "      <td>74.000000</td>\n",
              "      <td>2014.000000</td>\n",
              "      <td>4.765000</td>\n",
              "    </tr>\n",
              "    <tr>\n",
              "      <th>50%</th>\n",
              "      <td>75.500000</td>\n",
              "      <td>1997.000000</td>\n",
              "      <td>15.000000</td>\n",
              "      <td>36000.000000</td>\n",
              "      <td>2.000000</td>\n",
              "      <td>131.000000</td>\n",
              "      <td>2016.000000</td>\n",
              "      <td>19.980000</td>\n",
              "    </tr>\n",
              "    <tr>\n",
              "      <th>75%</th>\n",
              "      <td>112.750000</td>\n",
              "      <td>2998.000000</td>\n",
              "      <td>20.170000</td>\n",
              "      <td>45647.250000</td>\n",
              "      <td>2.000000</td>\n",
              "      <td>314.000000</td>\n",
              "      <td>2018.000000</td>\n",
              "      <td>80.000000</td>\n",
              "    </tr>\n",
              "    <tr>\n",
              "      <th>max</th>\n",
              "      <td>150.000000</td>\n",
              "      <td>6749.000000</td>\n",
              "      <td>47.450000</td>\n",
              "      <td>130000.000000</td>\n",
              "      <td>5.000000</td>\n",
              "      <td>985.000000</td>\n",
              "      <td>2021.000000</td>\n",
              "      <td>605.000000</td>\n",
              "    </tr>\n",
              "  </tbody>\n",
              "</table>\n",
              "</div>\n",
              "      <button class=\"colab-df-convert\" onclick=\"convertToInteractive('df-ea52319f-7910-4bf0-89d3-c8e6a0ae60c9')\"\n",
              "              title=\"Convert this dataframe to an interactive table.\"\n",
              "              style=\"display:none;\">\n",
              "        \n",
              "  <svg xmlns=\"http://www.w3.org/2000/svg\" height=\"24px\"viewBox=\"0 0 24 24\"\n",
              "       width=\"24px\">\n",
              "    <path d=\"M0 0h24v24H0V0z\" fill=\"none\"/>\n",
              "    <path d=\"M18.56 5.44l.94 2.06.94-2.06 2.06-.94-2.06-.94-.94-2.06-.94 2.06-2.06.94zm-11 1L8.5 8.5l.94-2.06 2.06-.94-2.06-.94L8.5 2.5l-.94 2.06-2.06.94zm10 10l.94 2.06.94-2.06 2.06-.94-2.06-.94-.94-2.06-.94 2.06-2.06.94z\"/><path d=\"M17.41 7.96l-1.37-1.37c-.4-.4-.92-.59-1.43-.59-.52 0-1.04.2-1.43.59L10.3 9.45l-7.72 7.72c-.78.78-.78 2.05 0 2.83L4 21.41c.39.39.9.59 1.41.59.51 0 1.02-.2 1.41-.59l7.78-7.78 2.81-2.81c.8-.78.8-2.07 0-2.86zM5.41 20L4 18.59l7.72-7.72 1.47 1.35L5.41 20z\"/>\n",
              "  </svg>\n",
              "      </button>\n",
              "      \n",
              "  <style>\n",
              "    .colab-df-container {\n",
              "      display:flex;\n",
              "      flex-wrap:wrap;\n",
              "      gap: 12px;\n",
              "    }\n",
              "\n",
              "    .colab-df-convert {\n",
              "      background-color: #E8F0FE;\n",
              "      border: none;\n",
              "      border-radius: 50%;\n",
              "      cursor: pointer;\n",
              "      display: none;\n",
              "      fill: #1967D2;\n",
              "      height: 32px;\n",
              "      padding: 0 0 0 0;\n",
              "      width: 32px;\n",
              "    }\n",
              "\n",
              "    .colab-df-convert:hover {\n",
              "      background-color: #E2EBFA;\n",
              "      box-shadow: 0px 1px 2px rgba(60, 64, 67, 0.3), 0px 1px 3px 1px rgba(60, 64, 67, 0.15);\n",
              "      fill: #174EA6;\n",
              "    }\n",
              "\n",
              "    [theme=dark] .colab-df-convert {\n",
              "      background-color: #3B4455;\n",
              "      fill: #D2E3FC;\n",
              "    }\n",
              "\n",
              "    [theme=dark] .colab-df-convert:hover {\n",
              "      background-color: #434B5C;\n",
              "      box-shadow: 0px 1px 3px 1px rgba(0, 0, 0, 0.15);\n",
              "      filter: drop-shadow(0px 1px 2px rgba(0, 0, 0, 0.3));\n",
              "      fill: #FFFFFF;\n",
              "    }\n",
              "  </style>\n",
              "\n",
              "      <script>\n",
              "        const buttonEl =\n",
              "          document.querySelector('#df-ea52319f-7910-4bf0-89d3-c8e6a0ae60c9 button.colab-df-convert');\n",
              "        buttonEl.style.display =\n",
              "          google.colab.kernel.accessAllowed ? 'block' : 'none';\n",
              "\n",
              "        async function convertToInteractive(key) {\n",
              "          const element = document.querySelector('#df-ea52319f-7910-4bf0-89d3-c8e6a0ae60c9');\n",
              "          const dataTable =\n",
              "            await google.colab.kernel.invokeFunction('convertToInteractive',\n",
              "                                                     [key], {});\n",
              "          if (!dataTable) return;\n",
              "\n",
              "          const docLinkHtml = 'Like what you see? Visit the ' +\n",
              "            '<a target=\"_blank\" href=https://colab.research.google.com/notebooks/data_table.ipynb>data table notebook</a>'\n",
              "            + ' to learn more about interactive tables.';\n",
              "          element.innerHTML = '';\n",
              "          dataTable['output_type'] = 'display_data';\n",
              "          await google.colab.output.renderOutput(dataTable, element);\n",
              "          const docLink = document.createElement('div');\n",
              "          docLink.innerHTML = docLinkHtml;\n",
              "          element.appendChild(docLink);\n",
              "        }\n",
              "      </script>\n",
              "    </div>\n",
              "  </div>\n",
              "  "
            ],
            "text/plain": [
              "               ID       Engine  ...         Year  Price (Lakhs)\n",
              "count  150.000000   150.000000  ...   150.000000     150.000000\n",
              "mean    75.500000  2573.346667  ...  2015.553333      62.030733\n",
              "std     43.445368  1687.191300  ...     3.398651      98.571347\n",
              "min      1.000000     0.000000  ...  2005.000000       0.800000\n",
              "25%     38.250000  1462.000000  ...  2014.000000       4.765000\n",
              "50%     75.500000  1997.000000  ...  2016.000000      19.980000\n",
              "75%    112.750000  2998.000000  ...  2018.000000      80.000000\n",
              "max    150.000000  6749.000000  ...  2021.000000     605.000000\n",
              "\n",
              "[8 rows x 8 columns]"
            ]
          },
          "metadata": {},
          "execution_count": 5
        }
      ],
      "source": [
        "# getting some information about the dataset\n",
        "df.describe()"
      ]
    },
    {
      "cell_type": "code",
      "execution_count": 6,
      "metadata": {
        "colab": {
          "base_uri": "https://localhost:8080/"
        },
        "id": "f0Q0MauVle8s",
        "outputId": "83e1ca98-466d-458f-ae10-6420b48748e0"
      },
      "outputs": [
        {
          "output_type": "execute_result",
          "data": {
            "text/plain": [
              "ID                 0\n",
              "Company            0\n",
              "Model              0\n",
              "Type               0\n",
              "Fuel               0\n",
              "Transmission       0\n",
              "Engine             0\n",
              "Mileage            3\n",
              "Kms_driven         0\n",
              "Buyers             0\n",
              "Horsepower (kw)    0\n",
              "Year               0\n",
              "Price (Lakhs)      0\n",
              "dtype: int64"
            ]
          },
          "metadata": {},
          "execution_count": 6
        }
      ],
      "source": [
        "# checking the number of missing values\n",
        "df.isnull().sum()"
      ]
    },
    {
      "cell_type": "code",
      "execution_count": 7,
      "metadata": {
        "colab": {
          "base_uri": "https://localhost:8080/"
        },
        "id": "5u80b5pllhkg",
        "outputId": "2708cb47-f446-4749-da4a-97594af6bc4a"
      },
      "outputs": [
        {
          "output_type": "stream",
          "name": "stdout",
          "text": [
            "Petrol      95\n",
            "Diesel      46\n",
            "Eletric      3\n",
            "Hybride      3\n",
            "Gas          2\n",
            "Gasoline     1\n",
            "Name: Fuel, dtype: int64\n",
            "Automatic    129\n",
            "Manual        19\n",
            "Semi-Auto      2\n",
            "Name: Transmission, dtype: int64\n",
            "SUV            58\n",
            "Sedan          36\n",
            "Coupe          24\n",
            "Hatchback      24\n",
            "MUV             6\n",
            "Convertible     2\n",
            "Name: Type, dtype: int64\n"
          ]
        }
      ],
      "source": [
        "# checking the distribution of categorical data\n",
        "print(df.Fuel.value_counts())\n",
        "print(df.Transmission.value_counts())\n",
        "print(df.Type.value_counts())"
      ]
    },
    {
      "cell_type": "markdown",
      "metadata": {
        "id": "LuuNVLpOv7np"
      },
      "source": [
        "# Pearson Correlation"
      ]
    },
    {
      "cell_type": "markdown",
      "metadata": {
        "id": "t4QH1f0Gwh9a"
      },
      "source": [
        "The Pearson Correlation measures the linear dependence between two variables X and Y. The resulting coefficient is a value between -1 and 1 inclusive, where:\n",
        "\n",
        "1: total positive linear correlation,\n",
        "\n",
        "0: no linear correlation,the two variables most likely do not affect each other \n",
        "\n",
        "-1: total negative linear correlation.\n",
        "\n",
        "P-value: What is this P-value? The P-value is the probability value that the correlation between these two variables is statistically significant. Normally, we choose a significance level of 0.05, which means that we are 95% confident that the correlation between the variables is significant.\n",
        "\n",
        "By convention, when the\n",
        "p-value is < 0.001 we say there is strong evidence that the correlation is significant,\n",
        "\n",
        "p-value is < 0.05, there is moderate evidence that the correlation is significant,\n",
        "\n",
        "p-value is < 0.1, there is weak evidence that the correlation is significant,and\n",
        "\n",
        "p-value is > 0.1, there is no evidence that the correlation is significant."
      ]
    },
    {
      "cell_type": "code",
      "execution_count": 8,
      "metadata": {
        "colab": {
          "base_uri": "https://localhost:8080/",
          "height": 300
        },
        "id": "NDcrJMJMlttT",
        "outputId": "5d89701b-95d4-4e71-8e9e-0a20b75a955b"
      },
      "outputs": [
        {
          "output_type": "execute_result",
          "data": {
            "text/html": [
              "\n",
              "  <div id=\"df-9d37e2f2-5f06-4c7b-988f-420e8cc8f19e\">\n",
              "    <div class=\"colab-df-container\">\n",
              "      <div>\n",
              "<style scoped>\n",
              "    .dataframe tbody tr th:only-of-type {\n",
              "        vertical-align: middle;\n",
              "    }\n",
              "\n",
              "    .dataframe tbody tr th {\n",
              "        vertical-align: top;\n",
              "    }\n",
              "\n",
              "    .dataframe thead th {\n",
              "        text-align: right;\n",
              "    }\n",
              "</style>\n",
              "<table border=\"1\" class=\"dataframe\">\n",
              "  <thead>\n",
              "    <tr style=\"text-align: right;\">\n",
              "      <th></th>\n",
              "      <th>ID</th>\n",
              "      <th>Engine</th>\n",
              "      <th>Mileage</th>\n",
              "      <th>Kms_driven</th>\n",
              "      <th>Buyers</th>\n",
              "      <th>Horsepower (kw)</th>\n",
              "      <th>Year</th>\n",
              "      <th>Price (Lakhs)</th>\n",
              "    </tr>\n",
              "  </thead>\n",
              "  <tbody>\n",
              "    <tr>\n",
              "      <th>ID</th>\n",
              "      <td>1.000000</td>\n",
              "      <td>0.579027</td>\n",
              "      <td>-0.459365</td>\n",
              "      <td>-0.108800</td>\n",
              "      <td>0.515503</td>\n",
              "      <td>0.481200</td>\n",
              "      <td>0.366648</td>\n",
              "      <td>0.459620</td>\n",
              "    </tr>\n",
              "    <tr>\n",
              "      <th>Engine</th>\n",
              "      <td>0.579027</td>\n",
              "      <td>1.000000</td>\n",
              "      <td>-0.688670</td>\n",
              "      <td>-0.064021</td>\n",
              "      <td>0.543387</td>\n",
              "      <td>0.838818</td>\n",
              "      <td>0.287434</td>\n",
              "      <td>0.774528</td>\n",
              "    </tr>\n",
              "    <tr>\n",
              "      <th>Mileage</th>\n",
              "      <td>-0.459365</td>\n",
              "      <td>-0.688670</td>\n",
              "      <td>1.000000</td>\n",
              "      <td>0.167036</td>\n",
              "      <td>-0.324920</td>\n",
              "      <td>-0.546172</td>\n",
              "      <td>-0.233363</td>\n",
              "      <td>-0.426583</td>\n",
              "    </tr>\n",
              "    <tr>\n",
              "      <th>Kms_driven</th>\n",
              "      <td>-0.108800</td>\n",
              "      <td>-0.064021</td>\n",
              "      <td>0.167036</td>\n",
              "      <td>1.000000</td>\n",
              "      <td>-0.008538</td>\n",
              "      <td>0.022244</td>\n",
              "      <td>-0.072064</td>\n",
              "      <td>0.010209</td>\n",
              "    </tr>\n",
              "    <tr>\n",
              "      <th>Buyers</th>\n",
              "      <td>0.515503</td>\n",
              "      <td>0.543387</td>\n",
              "      <td>-0.324920</td>\n",
              "      <td>-0.008538</td>\n",
              "      <td>1.000000</td>\n",
              "      <td>0.372087</td>\n",
              "      <td>0.185078</td>\n",
              "      <td>0.513689</td>\n",
              "    </tr>\n",
              "    <tr>\n",
              "      <th>Horsepower (kw)</th>\n",
              "      <td>0.481200</td>\n",
              "      <td>0.838818</td>\n",
              "      <td>-0.546172</td>\n",
              "      <td>0.022244</td>\n",
              "      <td>0.372087</td>\n",
              "      <td>1.000000</td>\n",
              "      <td>0.287582</td>\n",
              "      <td>0.745483</td>\n",
              "    </tr>\n",
              "    <tr>\n",
              "      <th>Year</th>\n",
              "      <td>0.366648</td>\n",
              "      <td>0.287434</td>\n",
              "      <td>-0.233363</td>\n",
              "      <td>-0.072064</td>\n",
              "      <td>0.185078</td>\n",
              "      <td>0.287582</td>\n",
              "      <td>1.000000</td>\n",
              "      <td>0.249994</td>\n",
              "    </tr>\n",
              "    <tr>\n",
              "      <th>Price (Lakhs)</th>\n",
              "      <td>0.459620</td>\n",
              "      <td>0.774528</td>\n",
              "      <td>-0.426583</td>\n",
              "      <td>0.010209</td>\n",
              "      <td>0.513689</td>\n",
              "      <td>0.745483</td>\n",
              "      <td>0.249994</td>\n",
              "      <td>1.000000</td>\n",
              "    </tr>\n",
              "  </tbody>\n",
              "</table>\n",
              "</div>\n",
              "      <button class=\"colab-df-convert\" onclick=\"convertToInteractive('df-9d37e2f2-5f06-4c7b-988f-420e8cc8f19e')\"\n",
              "              title=\"Convert this dataframe to an interactive table.\"\n",
              "              style=\"display:none;\">\n",
              "        \n",
              "  <svg xmlns=\"http://www.w3.org/2000/svg\" height=\"24px\"viewBox=\"0 0 24 24\"\n",
              "       width=\"24px\">\n",
              "    <path d=\"M0 0h24v24H0V0z\" fill=\"none\"/>\n",
              "    <path d=\"M18.56 5.44l.94 2.06.94-2.06 2.06-.94-2.06-.94-.94-2.06-.94 2.06-2.06.94zm-11 1L8.5 8.5l.94-2.06 2.06-.94-2.06-.94L8.5 2.5l-.94 2.06-2.06.94zm10 10l.94 2.06.94-2.06 2.06-.94-2.06-.94-.94-2.06-.94 2.06-2.06.94z\"/><path d=\"M17.41 7.96l-1.37-1.37c-.4-.4-.92-.59-1.43-.59-.52 0-1.04.2-1.43.59L10.3 9.45l-7.72 7.72c-.78.78-.78 2.05 0 2.83L4 21.41c.39.39.9.59 1.41.59.51 0 1.02-.2 1.41-.59l7.78-7.78 2.81-2.81c.8-.78.8-2.07 0-2.86zM5.41 20L4 18.59l7.72-7.72 1.47 1.35L5.41 20z\"/>\n",
              "  </svg>\n",
              "      </button>\n",
              "      \n",
              "  <style>\n",
              "    .colab-df-container {\n",
              "      display:flex;\n",
              "      flex-wrap:wrap;\n",
              "      gap: 12px;\n",
              "    }\n",
              "\n",
              "    .colab-df-convert {\n",
              "      background-color: #E8F0FE;\n",
              "      border: none;\n",
              "      border-radius: 50%;\n",
              "      cursor: pointer;\n",
              "      display: none;\n",
              "      fill: #1967D2;\n",
              "      height: 32px;\n",
              "      padding: 0 0 0 0;\n",
              "      width: 32px;\n",
              "    }\n",
              "\n",
              "    .colab-df-convert:hover {\n",
              "      background-color: #E2EBFA;\n",
              "      box-shadow: 0px 1px 2px rgba(60, 64, 67, 0.3), 0px 1px 3px 1px rgba(60, 64, 67, 0.15);\n",
              "      fill: #174EA6;\n",
              "    }\n",
              "\n",
              "    [theme=dark] .colab-df-convert {\n",
              "      background-color: #3B4455;\n",
              "      fill: #D2E3FC;\n",
              "    }\n",
              "\n",
              "    [theme=dark] .colab-df-convert:hover {\n",
              "      background-color: #434B5C;\n",
              "      box-shadow: 0px 1px 3px 1px rgba(0, 0, 0, 0.15);\n",
              "      filter: drop-shadow(0px 1px 2px rgba(0, 0, 0, 0.3));\n",
              "      fill: #FFFFFF;\n",
              "    }\n",
              "  </style>\n",
              "\n",
              "      <script>\n",
              "        const buttonEl =\n",
              "          document.querySelector('#df-9d37e2f2-5f06-4c7b-988f-420e8cc8f19e button.colab-df-convert');\n",
              "        buttonEl.style.display =\n",
              "          google.colab.kernel.accessAllowed ? 'block' : 'none';\n",
              "\n",
              "        async function convertToInteractive(key) {\n",
              "          const element = document.querySelector('#df-9d37e2f2-5f06-4c7b-988f-420e8cc8f19e');\n",
              "          const dataTable =\n",
              "            await google.colab.kernel.invokeFunction('convertToInteractive',\n",
              "                                                     [key], {});\n",
              "          if (!dataTable) return;\n",
              "\n",
              "          const docLinkHtml = 'Like what you see? Visit the ' +\n",
              "            '<a target=\"_blank\" href=https://colab.research.google.com/notebooks/data_table.ipynb>data table notebook</a>'\n",
              "            + ' to learn more about interactive tables.';\n",
              "          element.innerHTML = '';\n",
              "          dataTable['output_type'] = 'display_data';\n",
              "          await google.colab.output.renderOutput(dataTable, element);\n",
              "          const docLink = document.createElement('div');\n",
              "          docLink.innerHTML = docLinkHtml;\n",
              "          element.appendChild(docLink);\n",
              "        }\n",
              "      </script>\n",
              "    </div>\n",
              "  </div>\n",
              "  "
            ],
            "text/plain": [
              "                       ID    Engine  ...      Year  Price (Lakhs)\n",
              "ID               1.000000  0.579027  ...  0.366648       0.459620\n",
              "Engine           0.579027  1.000000  ...  0.287434       0.774528\n",
              "Mileage         -0.459365 -0.688670  ... -0.233363      -0.426583\n",
              "Kms_driven      -0.108800 -0.064021  ... -0.072064       0.010209\n",
              "Buyers           0.515503  0.543387  ...  0.185078       0.513689\n",
              "Horsepower (kw)  0.481200  0.838818  ...  0.287582       0.745483\n",
              "Year             0.366648  0.287434  ...  1.000000       0.249994\n",
              "Price (Lakhs)    0.459620  0.774528  ...  0.249994       1.000000\n",
              "\n",
              "[8 rows x 8 columns]"
            ]
          },
          "metadata": {},
          "execution_count": 8
        }
      ],
      "source": [
        "pearsoncorr = df.corr(method='pearson')\n",
        "pearsoncorr"
      ]
    },
    {
      "cell_type": "markdown",
      "metadata": {
        "id": "otoEjjmO25Lh"
      },
      "source": [
        "## Data Visualization"
      ]
    },
    {
      "cell_type": "markdown",
      "source": [
        "Data visualization is the graphical representation of information and data. By using visual elements like charts and graphs,  data visualization tools provide an accessible way to see and understand trends  and patterns in data."
      ],
      "metadata": {
        "id": "YC8vm4LcZ3vC"
      }
    },
    {
      "cell_type": "markdown",
      "metadata": {
        "id": "h91xgt0nm3t0"
      },
      "source": [
        "Bivariate analysis of quantitative values"
      ]
    },
    {
      "cell_type": "code",
      "execution_count": 9,
      "metadata": {
        "colab": {
          "base_uri": "https://localhost:8080/",
          "height": 300
        },
        "id": "-lcZzKRn25Lh",
        "outputId": "c5178907-6726-4d0b-fd5b-020402701535"
      },
      "outputs": [
        {
          "output_type": "display_data",
          "data": {
            "image/png": "[encoded data removed]",
            "text/plain": [
              "<Figure size 432x288 with 1 Axes>"
            ]
          },
          "metadata": {
            "needs_background": "light"
          }
        }
      ],
      "source": [
        "#Plotting a graph establishing the relation of price wrt mileage \n",
        "x = []\n",
        "y= []\n",
        "  \n",
        "with open('CarPriceDataset_Final.csv','r') as csvfile:\n",
        "    lines = csv.reader(csvfile, delimiter=',')\n",
        "    for row in lines:\n",
        "        x.append(row[7])\n",
        "        y.append((row[12]))\n",
        "\n",
        "ax = plt.axes()  \n",
        "ax.set_facecolor(\"#e09696\")    \n",
        "  \n",
        "plt.scatter(x, y, color = 'r',s = 10)\n",
        "plt.xlabel('Mileage')\n",
        "plt.ylabel('Price (Lakhs)')\n",
        "plt.title('Price of a car wrt mileage', fontsize = 20)\n",
        "  \n",
        "plt.show()"
      ]
    },
    {
      "cell_type": "code",
      "execution_count": 10,
      "metadata": {
        "colab": {
          "base_uri": "https://localhost:8080/",
          "height": 302
        },
        "id": "YIMQsTDZ25Li",
        "outputId": "36845267-0ac6-4212-d6d7-24f93ca68785"
      },
      "outputs": [
        {
          "output_type": "display_data",
          "data": {
            "image/png": "[encoded data removed]",
            "text/plain": [
              "<Figure size 432x288 with 1 Axes>"
            ]
          },
          "metadata": {
            "needs_background": "light"
          }
        }
      ],
      "source": [
        "#Plotting a graph establishing the relation of price wrt kms driven \n",
        "x = []\n",
        "y= []\n",
        "  \n",
        "with open('CarPriceDataset_Final.csv','r') as csvfile:\n",
        "    lines = csv.reader(csvfile, delimiter=',')\n",
        "    for row in lines:\n",
        "        x.append(row[8])\n",
        "        y.append((row[12]))\n",
        "\n",
        "ax = plt.axes()  \n",
        "ax.set_facecolor(\"#cf97cf\")  \n",
        "  \n",
        "plt.scatter(x, y, color = 'r',s = 10)\n",
        "plt.xlabel('kms_driven')\n",
        "plt.ylabel('Price (Lakhs)')\n",
        "plt.title('Price of a car wrt kms_driven', fontsize = 20)\n",
        "  \n",
        "plt.show()"
      ]
    },
    {
      "cell_type": "code",
      "execution_count": 11,
      "metadata": {
        "colab": {
          "base_uri": "https://localhost:8080/",
          "height": 300
        },
        "id": "gys3s7z6I6mZ",
        "outputId": "7a692274-23d8-4c5e-fcf1-de2a73cb1d8c"
      },
      "outputs": [
        {
          "output_type": "display_data",
          "data": {
            "image/png": "[encoded data removed]",
            "text/plain": [
              "<Figure size 432x288 with 1 Axes>"
            ]
          },
          "metadata": {
            "needs_background": "light"
          }
        }
      ],
      "source": [
        "#Plotting a graph establishing the relation of price wrt engine \n",
        "x = []\n",
        "y= []\n",
        "  \n",
        "with open('CarPriceDataset_Final.csv','r') as csvfile:\n",
        "    lines = csv.reader(csvfile, delimiter=',')\n",
        "    for row in lines:\n",
        "        x.append(row[6])\n",
        "        y.append((row[12]))\n",
        "\n",
        "ax = plt.axes()  \n",
        "ax.set_facecolor(\"#e09696\")    \n",
        "  \n",
        "plt.scatter(x, y, color = 'r',s = 10)\n",
        "plt.xlabel('Engine')\n",
        "plt.ylabel('Price (Lakhs)')\n",
        "plt.title('Price of a car wrt engine', fontsize = 20)\n",
        "  \n",
        "plt.show()"
      ]
    },
    {
      "cell_type": "code",
      "execution_count": 12,
      "metadata": {
        "colab": {
          "base_uri": "https://localhost:8080/",
          "height": 300
        },
        "id": "zcDq719q25Li",
        "outputId": "c861f03a-8fca-43b5-8c3c-91bf9760c25f"
      },
      "outputs": [
        {
          "output_type": "display_data",
          "data": {
            "image/png": "[encoded data removed]",
            "text/plain": [
              "<Figure size 432x288 with 1 Axes>"
            ]
          },
          "metadata": {
            "needs_background": "light"
          }
        }
      ],
      "source": [
        "#Plotting a graph establishing the relation of price wrt no of buyers\n",
        "x = []\n",
        "y= []\n",
        "  \n",
        "with open('CarPriceDataset_Final.csv','r') as csvfile:\n",
        "    lines = csv.reader(csvfile, delimiter=',')\n",
        "    for row in lines:\n",
        "        x.append(row[9])\n",
        "        y.append((row[12]))\n",
        "\n",
        "ax = plt.axes()  \n",
        "ax.set_facecolor(\"#bdb184\")  \n",
        "  \n",
        "plt.scatter(x, y, color = 'b')\n",
        "plt.xlabel('buyers')\n",
        "plt.ylabel('Price (Lakhs)')\n",
        "plt.title('Price of a car wrt no.of buyers', fontsize = 20)\n",
        "  \n",
        "plt.show()"
      ]
    },
    {
      "cell_type": "code",
      "execution_count": 13,
      "metadata": {
        "colab": {
          "base_uri": "https://localhost:8080/",
          "height": 300
        },
        "id": "HskAOype25Li",
        "outputId": "67c0cd70-763f-4241-b2ea-bd9dc41acd65"
      },
      "outputs": [
        {
          "output_type": "display_data",
          "data": {
            "image/png": "[encoded data removed]",
            "text/plain": [
              "<Figure size 432x288 with 1 Axes>"
            ]
          },
          "metadata": {
            "needs_background": "light"
          }
        }
      ],
      "source": [
        "#Plotting a graph establishing the relation of price wrt year \n",
        "x = []\n",
        "y= []\n",
        "  \n",
        "with open('CarPriceDataset_Final.csv','r') as csvfile:\n",
        "    lines = csv.reader(csvfile, delimiter=',')\n",
        "    for row in lines:\n",
        "        x.append(row[11])\n",
        "        y.append((row[12]))\n",
        "\n",
        "ax = plt.axes()  \n",
        "ax.set_facecolor(\"#7e91e0\")  \n",
        "  \n",
        "plt.scatter(x, y, color = 'r')\n",
        "plt.xlabel('Year')\n",
        "plt.ylabel('Price (Lakhs)')\n",
        "plt.title('Price of a car wrt Year', fontsize = 20)\n",
        "  \n",
        "plt.show()"
      ]
    },
    {
      "cell_type": "code",
      "execution_count": 14,
      "metadata": {
        "colab": {
          "base_uri": "https://localhost:8080/",
          "height": 300
        },
        "id": "nTc_KJWCJ90y",
        "outputId": "2c71c379-c470-4fd0-c434-254d5bb51905"
      },
      "outputs": [
        {
          "output_type": "display_data",
          "data": {
            "image/png": "[encoded data removed]",
            "text/plain": [
              "<Figure size 432x288 with 1 Axes>"
            ]
          },
          "metadata": {
            "needs_background": "light"
          }
        }
      ],
      "source": [
        "#Plotting a graph establishing the relation of price wrt Horsepower\n",
        "x = []\n",
        "y= []\n",
        "  \n",
        "with open('CarPriceDataset_Final.csv','r') as csvfile:\n",
        "    lines = csv.reader(csvfile, delimiter=',')\n",
        "    for row in lines:\n",
        "        x.append(row[10])\n",
        "        y.append((row[12]))\n",
        "\n",
        "ax = plt.axes()  \n",
        "ax.set_facecolor(\"#7e91e0\")  \n",
        "  \n",
        "plt.scatter(x, y, color = 'r' ,s = 10)\n",
        "plt.xlabel('Horsepower (kw)')\n",
        "plt.ylabel('Price (Lakhs)')\n",
        "plt.title('Price of a car wrt Horsepower', fontsize = 20)\n",
        "  \n",
        "plt.show()"
      ]
    },
    {
      "cell_type": "markdown",
      "metadata": {
        "id": "TIfAJP9gndrF"
      },
      "source": [
        "Bivariate analysis of qualitative analysis\n"
      ]
    },
    {
      "cell_type": "code",
      "execution_count": 15,
      "metadata": {
        "colab": {
          "base_uri": "https://localhost:8080/",
          "height": 300
        },
        "id": "XRGCQn7ynkO0",
        "outputId": "4c27aa0d-28f6-4233-9d03-8c6447037fab"
      },
      "outputs": [
        {
          "output_type": "display_data",
          "data": {
            "image/png": "[encoded data removed]",
            "text/plain": [
              "<Figure size 432x288 with 1 Axes>"
            ]
          },
          "metadata": {
            "needs_background": "light"
          }
        }
      ],
      "source": [
        "#Plotting a graph establishing the relation of price wrt company\n",
        "x = []\n",
        "y= []\n",
        "  \n",
        "with open('CarPriceDataset_Final.csv','r') as csvfile:\n",
        "    lines = csv.reader(csvfile, delimiter=',')\n",
        "    for row in lines:\n",
        "        x.append(row[1])\n",
        "        y.append((row[12]))\n",
        "\n",
        "ax = plt.axes()  \n",
        "ax.set_facecolor(\"#a5cf97\")  \n",
        "  \n",
        "plt.bar(x, y, color = 'r')\n",
        "plt.xlabel('Company')\n",
        "plt.ylabel('Price (Lakhs)')\n",
        "plt.title('Price of a car wrt Company', fontsize = 20)\n",
        "  \n",
        "plt.show()\n"
      ]
    },
    {
      "cell_type": "code",
      "execution_count": 16,
      "metadata": {
        "colab": {
          "base_uri": "https://localhost:8080/",
          "height": 300
        },
        "id": "EVmJoa76pYW8",
        "outputId": "594f0a8e-6c60-440b-b6d9-d0aa06e4b1d8"
      },
      "outputs": [
        {
          "output_type": "display_data",
          "data": {
            "image/png": "[encoded data removed]",
            "text/plain": [
              "<Figure size 432x288 with 1 Axes>"
            ]
          },
          "metadata": {
            "needs_background": "light"
          }
        }
      ],
      "source": [
        "#Plotting a graph establishing the relation of price wrt car model\n",
        "x = []\n",
        "y= []\n",
        "  \n",
        "with open('CarPriceDataset_Final.csv','r') as csvfile:\n",
        "    lines = csv.reader(csvfile, delimiter=',')\n",
        "    for row in lines:\n",
        "        x.append(row[2])\n",
        "        y.append((row[12]))\n",
        "\n",
        "ax = plt.axes()  \n",
        "ax.set_facecolor(\"#1CC4AF\")      \n",
        "  \n",
        "plt.bar(x, y, color = 'r')\n",
        "plt.xlabel('Model')\n",
        "plt.ylabel('Price (Lakhs)')\n",
        "plt.title('Price of a car wrt car model', fontsize = 20)\n",
        "  \n",
        "plt.show()"
      ]
    },
    {
      "cell_type": "code",
      "execution_count": 17,
      "metadata": {
        "colab": {
          "base_uri": "https://localhost:8080/",
          "height": 300
        },
        "id": "QVh4vhdtrNlB",
        "outputId": "dc870463-09c8-4fa7-ea07-e40b92557f75"
      },
      "outputs": [
        {
          "output_type": "display_data",
          "data": {
            "image/png": "[encoded data removed]",
            "text/plain": [
              "<Figure size 432x288 with 1 Axes>"
            ]
          },
          "metadata": {
            "needs_background": "light"
          }
        }
      ],
      "source": [
        "#Plotting a graph establishing the relation of price wrt car type\n",
        "x = []\n",
        "y= []\n",
        "  \n",
        "with open('CarPriceDataset_Final.csv','r') as csvfile:\n",
        "    lines = csv.reader(csvfile, delimiter=',')\n",
        "    for row in lines:\n",
        "        x.append(row[3])\n",
        "        y.append((row[12]))\n",
        "\n",
        "ax = plt.axes()  \n",
        "ax.set_facecolor(\"cyan\")      \n",
        "  \n",
        "plt.bar(x, y, color = 'b')\n",
        "plt.xlabel('Type')\n",
        "plt.ylabel('Price (Lakhs)')\n",
        "plt.title('Price of a car wrt car type', fontsize = 20)\n",
        "  \n",
        "plt.show()"
      ]
    },
    {
      "cell_type": "code",
      "execution_count": 18,
      "metadata": {
        "colab": {
          "base_uri": "https://localhost:8080/",
          "height": 300
        },
        "id": "BdpiXKW_riz6",
        "outputId": "15b02cd6-dba7-47d2-ae3d-96a6e07516a7"
      },
      "outputs": [
        {
          "output_type": "display_data",
          "data": {
            "image/png": "[encoded data removed]",
            "text/plain": [
              "<Figure size 432x288 with 1 Axes>"
            ]
          },
          "metadata": {
            "needs_background": "light"
          }
        }
      ],
      "source": [
        "#Plotting a graph establishing the relation of price wrt Fuel type\n",
        "x = []\n",
        "y= []\n",
        "  \n",
        "with open('CarPriceDataset_Final.csv','r') as csvfile:\n",
        "    lines = csv.reader(csvfile, delimiter=',')\n",
        "    for row in lines:\n",
        "        x.append(row[4])\n",
        "        y.append((row[12]))\n",
        "\n",
        "ax = plt.axes()  \n",
        "ax.set_facecolor(\"pink\")      \n",
        "  \n",
        "plt.bar(x, y, color = 'r')\n",
        "plt.xlabel('Fuel')\n",
        "plt.ylabel('Price (Lakhs)')\n",
        "plt.title('Price of a car wrt fuel type', fontsize = 20)\n",
        "  \n",
        "plt.show()"
      ]
    },
    {
      "cell_type": "code",
      "execution_count": 19,
      "metadata": {
        "colab": {
          "base_uri": "https://localhost:8080/",
          "height": 300
        },
        "id": "5kPp4kTnsAjz",
        "outputId": "e59049db-c626-43e1-d512-649b37664014"
      },
      "outputs": [
        {
          "output_type": "display_data",
          "data": {
            "image/png": "[encoded data removed]",
            "text/plain": [
              "<Figure size 432x288 with 1 Axes>"
            ]
          },
          "metadata": {
            "needs_background": "light"
          }
        }
      ],
      "source": [
        "#Plotting a graph establishing the relation of price wrt transmission type\n",
        "x = []\n",
        "y= []\n",
        "  \n",
        "with open('CarPriceDataset_Final.csv','r') as csvfile:\n",
        "    lines = csv.reader(csvfile, delimiter=',')\n",
        "    for row in lines:\n",
        "        x.append(row[5])\n",
        "        y.append((row[12]))\n",
        "\n",
        "ax = plt.axes()  \n",
        "ax.set_facecolor(\"#1CC4AF\")      \n",
        "  \n",
        "plt.bar(x, y, color = 'r')\n",
        "plt.xlabel('Transmission')\n",
        "plt.ylabel('Price (Lakhs)')\n",
        "plt.title('Price of a car wrt transmission type', fontsize = 20)\n",
        "  \n",
        "plt.show()"
      ]
    },
    {
      "cell_type": "markdown",
      "metadata": {
        "id": "dQ9KOAzMuxTB"
      },
      "source": [
        "## Data Preparation"
      ]
    },
    {
      "cell_type": "markdown",
      "source": [
        "Missing values can be handled by deleting the rows and columns having null values. In those scenarios we use drop function and then check the number of rows and columns using shape function. "
      ],
      "metadata": {
        "id": "O3d382oBaFbj"
      }
    },
    {
      "cell_type": "code",
      "execution_count": 20,
      "metadata": {
        "colab": {
          "base_uri": "https://localhost:8080/"
        },
        "id": "jvgafJC3MM8E",
        "outputId": "d4369f21-1a8f-4d31-9ae8-2482d97c0147"
      },
      "outputs": [
        {
          "output_type": "execute_result",
          "data": {
            "text/plain": [
              "(150, 13)"
            ]
          },
          "metadata": {},
          "execution_count": 20
        }
      ],
      "source": [
        "df.shape"
      ]
    },
    {
      "cell_type": "code",
      "execution_count": 21,
      "metadata": {
        "id": "13CCv__jM3Ub"
      },
      "outputs": [],
      "source": [
        "# Deleting unwanted datapoints\n",
        "df.dropna(inplace=True)"
      ]
    },
    {
      "cell_type": "code",
      "execution_count": 22,
      "metadata": {
        "colab": {
          "base_uri": "https://localhost:8080/"
        },
        "id": "e434kpsINF56",
        "outputId": "8270b3ce-938a-4842-fa73-a7dc858dc542"
      },
      "outputs": [
        {
          "output_type": "execute_result",
          "data": {
            "text/plain": [
              "(147, 13)"
            ]
          },
          "metadata": {},
          "execution_count": 22
        }
      ],
      "source": [
        "# Checking the no.of rows and columns \n",
        "df.shape"
      ]
    },
    {
      "cell_type": "code",
      "execution_count": 23,
      "metadata": {
        "id": "VD5KfZVdNLJT"
      },
      "outputs": [],
      "source": [
        "# Again deleting unwanted datapoints\n",
        "df = df.drop(df.index[[79,84,94,95,144,145]])"
      ]
    },
    {
      "cell_type": "code",
      "execution_count": 24,
      "metadata": {
        "colab": {
          "base_uri": "https://localhost:8080/"
        },
        "id": "S6Mo-MMiPDHj",
        "outputId": "4e6b5723-9621-4960-ed34-398112df6426"
      },
      "outputs": [
        {
          "output_type": "execute_result",
          "data": {
            "text/plain": [
              "(141, 13)"
            ]
          },
          "metadata": {},
          "execution_count": 24
        }
      ],
      "source": [
        "# Final no.of rows and columns after eliminating unwanted data\n",
        "df.shape"
      ]
    },
    {
      "cell_type": "code",
      "execution_count": 25,
      "metadata": {
        "id": "KPqoO4F_fDjP"
      },
      "outputs": [],
      "source": [
        "# Eliminating unwanted columns\n",
        "df.drop([ 'ID'] , axis =1 , inplace = True)"
      ]
    },
    {
      "cell_type": "code",
      "execution_count": 26,
      "metadata": {
        "colab": {
          "base_uri": "https://localhost:8080/"
        },
        "id": "ec3oUY6YLLdb",
        "outputId": "9744bf6e-08bf-455b-e30a-abc7ff135380"
      },
      "outputs": [
        {
          "output_type": "execute_result",
          "data": {
            "text/plain": [
              "(141, 12)"
            ]
          },
          "metadata": {},
          "execution_count": 26
        }
      ],
      "source": [
        "# No.of rows and columns after deleting three columns\n",
        "df.shape\n"
      ]
    },
    {
      "cell_type": "markdown",
      "metadata": {
        "id": "Ao-Qie_9yi8Q"
      },
      "source": [
        "# Univariate Linear Regression "
      ]
    },
    {
      "cell_type": "markdown",
      "source": [
        "Linear regression focuses on determining relationship between one independent variable and one dependent variable. Regression is mainly used when we need to predict any value when there is a positive linear trend."
      ],
      "metadata": {
        "id": "zmrbsQ62aSvs"
      }
    },
    {
      "cell_type": "markdown",
      "metadata": {
        "id": "iTDwoe6RyEaH"
      },
      "source": [
        "Calculating the relation between price of a car and its mileage "
      ]
    },
    {
      "cell_type": "code",
      "execution_count": 27,
      "metadata": {
        "id": "5kFNs7iozLfJ"
      },
      "outputs": [],
      "source": [
        "#Assigning the predictor variable and target variable \n",
        "x = df[['Mileage ']]\n",
        "y = df[['Price (Lakhs)']]"
      ]
    },
    {
      "cell_type": "markdown",
      "metadata": {
        "id": "85cYAkHX2X2Q"
      },
      "source": [
        "Case 1 [ 10% test data ]"
      ]
    },
    {
      "cell_type": "code",
      "execution_count": 28,
      "metadata": {
        "id": "TE7CdSoU3RUc"
      },
      "outputs": [],
      "source": [
        "#splitting the dataset into test and train set\n",
        "x_train, x_test, y_train, y_test = train_test_split(x, y, test_size = 0.1, random_state=2)"
      ]
    },
    {
      "cell_type": "code",
      "execution_count": 29,
      "metadata": {
        "colab": {
          "base_uri": "https://localhost:8080/"
        },
        "id": "5SJfRPNs3w6c",
        "outputId": "daf9028b-b1a1-4d57-c07f-34ecf8c3c503"
      },
      "outputs": [
        {
          "output_type": "execute_result",
          "data": {
            "text/plain": [
              "-0.22707955237183142"
            ]
          },
          "metadata": {},
          "execution_count": 29
        }
      ],
      "source": [
        "#Using the linear regression function the predict the value\n",
        "clf = LinearRegression()\n",
        "clf.fit(x_train , y_train)\n",
        "clf.score(x_test , y_test)"
      ]
    },
    {
      "cell_type": "markdown",
      "metadata": {
        "id": "6RYafZU729Cv"
      },
      "source": [
        "Case 2 [ 20% test data]"
      ]
    },
    {
      "cell_type": "code",
      "execution_count": 30,
      "metadata": {
        "id": "j7Iz-QZKbumj"
      },
      "outputs": [],
      "source": [
        "#splitting the dataset into test and train set\n",
        "x_train, x_test, y_train, y_test = train_test_split(x, y, test_size = 0.2, random_state=2)"
      ]
    },
    {
      "cell_type": "code",
      "execution_count": 31,
      "metadata": {
        "colab": {
          "base_uri": "https://localhost:8080/"
        },
        "id": "k_RZnm4Ab0R4",
        "outputId": "a224f800-3c7a-483c-fb19-c70e79c7f08e"
      },
      "outputs": [
        {
          "output_type": "execute_result",
          "data": {
            "text/plain": [
              "0.13542634731078562"
            ]
          },
          "metadata": {},
          "execution_count": 31
        }
      ],
      "source": [
        "#Using the linear regression function the predict the value\n",
        "clf = LinearRegression()\n",
        "clf.fit(x_train , y_train)\n",
        "clf.score(x_test , y_test)"
      ]
    },
    {
      "cell_type": "markdown",
      "metadata": {
        "id": "9BPWm4nv3ECv"
      },
      "source": [
        "Case 3 [ 30% test data ]"
      ]
    },
    {
      "cell_type": "code",
      "execution_count": 32,
      "metadata": {
        "id": "-hKr8E-ccuhf"
      },
      "outputs": [],
      "source": [
        "#splitting the dataset into test and train set\n",
        "x_train, x_test, y_train, y_test = train_test_split(x, y, test_size = 0.3, random_state=2)"
      ]
    },
    {
      "cell_type": "code",
      "execution_count": 33,
      "metadata": {
        "colab": {
          "base_uri": "https://localhost:8080/"
        },
        "id": "4TM6I-S6cuTp",
        "outputId": "5faa77a6-f232-4208-aa5e-051880930bba"
      },
      "outputs": [
        {
          "output_type": "execute_result",
          "data": {
            "text/plain": [
              "0.1388848826666671"
            ]
          },
          "metadata": {},
          "execution_count": 33
        }
      ],
      "source": [
        "#Using the linear regression function the predict the value\n",
        "clf = LinearRegression()\n",
        "clf.fit(x_train , y_train)\n",
        "clf.score(x_test , y_test)"
      ]
    },
    {
      "cell_type": "markdown",
      "metadata": {
        "id": "Dsg4fjumozjR"
      },
      "source": [
        "Case 4 [40% data]"
      ]
    },
    {
      "cell_type": "code",
      "execution_count": 34,
      "metadata": {
        "id": "8nPvHb5YolsK"
      },
      "outputs": [],
      "source": [
        "#splitting the dataset into test and train set\n",
        "x_train, x_test, y_train, y_test = train_test_split(x, y, test_size = 0.4, random_state=2)"
      ]
    },
    {
      "cell_type": "code",
      "execution_count": 35,
      "metadata": {
        "colab": {
          "base_uri": "https://localhost:8080/"
        },
        "id": "NqyYQyhKooQI",
        "outputId": "58da2072-206b-42e2-c749-28fdd9cd9d3c"
      },
      "outputs": [
        {
          "output_type": "execute_result",
          "data": {
            "text/plain": [
              "0.17765988780799136"
            ]
          },
          "metadata": {},
          "execution_count": 35
        }
      ],
      "source": [
        "#Using the linear regression function the predict the value\n",
        "clf = LinearRegression()\n",
        "clf.fit(x_train , y_train)\n",
        "clf.score(x_test , y_test)"
      ]
    },
    {
      "cell_type": "markdown",
      "metadata": {
        "id": "HPXRkNzFzL18"
      },
      "source": [
        "Calculating the relation between price of a car and no.of buyers"
      ]
    },
    {
      "cell_type": "code",
      "execution_count": 36,
      "metadata": {
        "id": "xcOz3gyZzO_i"
      },
      "outputs": [],
      "source": [
        "#Assigning the predictor variable and target variable \n",
        "x = df[['Buyers']]\n",
        "y = df[['Price (Lakhs)']]"
      ]
    },
    {
      "cell_type": "markdown",
      "metadata": {
        "id": "lnx9aDIpzbsC"
      },
      "source": [
        "Case 1 [ 10% test data ]\n"
      ]
    },
    {
      "cell_type": "code",
      "execution_count": 37,
      "metadata": {
        "id": "RbZ0Y2klzVpq"
      },
      "outputs": [],
      "source": [
        "#splitting the dataset into test and train set\n",
        "x_train, x_test, y_train, y_test = train_test_split(x, y, test_size = 0.1, random_state=2)"
      ]
    },
    {
      "cell_type": "code",
      "execution_count": 38,
      "metadata": {
        "colab": {
          "base_uri": "https://localhost:8080/"
        },
        "id": "OeKyE0JRzgvm",
        "outputId": "b8df5820-0b2d-4d79-81bf-87be995fe572"
      },
      "outputs": [
        {
          "output_type": "execute_result",
          "data": {
            "text/plain": [
              "-1.389846057894935"
            ]
          },
          "metadata": {},
          "execution_count": 38
        }
      ],
      "source": [
        "#Using the linear regression function the predict the value\n",
        "clf = LinearRegression()\n",
        "clf.fit(x_train , y_train)\n",
        "clf.score(x_test , y_test)"
      ]
    },
    {
      "cell_type": "markdown",
      "metadata": {
        "id": "GeKmkEV-zmsa"
      },
      "source": [
        "Case 2 [ 20% test data]"
      ]
    },
    {
      "cell_type": "code",
      "execution_count": 39,
      "metadata": {
        "id": "epZrhZiSzkKg"
      },
      "outputs": [],
      "source": [
        "#splitting the dataset into test and train set\n",
        "x_train, x_test, y_train, y_test = train_test_split(x, y, test_size = 0.2, random_state=2)"
      ]
    },
    {
      "cell_type": "code",
      "execution_count": 40,
      "metadata": {
        "colab": {
          "base_uri": "https://localhost:8080/"
        },
        "id": "3cWYst07zsDF",
        "outputId": "7a7291bb-43d3-450a-db98-ed9ab9a37a20"
      },
      "outputs": [
        {
          "output_type": "execute_result",
          "data": {
            "text/plain": [
              "-0.45308837193176843"
            ]
          },
          "metadata": {},
          "execution_count": 40
        }
      ],
      "source": [
        "#Using the linear regression function the predict the value\n",
        "clf = LinearRegression()\n",
        "clf.fit(x_train , y_train)\n",
        "clf.score(x_test , y_test)"
      ]
    },
    {
      "cell_type": "markdown",
      "metadata": {
        "id": "xDXlgBCjzv7D"
      },
      "source": [
        "Case 3 [ 30% test data ]"
      ]
    },
    {
      "cell_type": "code",
      "execution_count": 41,
      "metadata": {
        "id": "-FH0n9wezux-"
      },
      "outputs": [],
      "source": [
        "#splitting the dataset into test and train set\n",
        "x_train, x_test, y_train, y_test = train_test_split(x, y, test_size = 0.3, random_state=2)"
      ]
    },
    {
      "cell_type": "code",
      "execution_count": 42,
      "metadata": {
        "colab": {
          "base_uri": "https://localhost:8080/"
        },
        "id": "2xnheZAPz0n7",
        "outputId": "ba40ffc0-d04f-48a8-920c-a87fb5a862e1"
      },
      "outputs": [
        {
          "output_type": "execute_result",
          "data": {
            "text/plain": [
              "-0.3462998327450231"
            ]
          },
          "metadata": {},
          "execution_count": 42
        }
      ],
      "source": [
        "#Using the linear regression function the predict the value\n",
        "clf = LinearRegression()\n",
        "clf.fit(x_train , y_train)\n",
        "clf.score(x_test , y_test)"
      ]
    },
    {
      "cell_type": "markdown",
      "metadata": {
        "id": "M_60ojZQpEi2"
      },
      "source": [
        "Case 4 [40% test data]"
      ]
    },
    {
      "cell_type": "code",
      "execution_count": 43,
      "metadata": {
        "id": "eRQ7xnfSpBLk"
      },
      "outputs": [],
      "source": [
        "#splitting the dataset into test and train set\n",
        "x_train, x_test, y_train, y_test = train_test_split(x, y, test_size = 0.4, random_state=2)"
      ]
    },
    {
      "cell_type": "code",
      "execution_count": 44,
      "metadata": {
        "colab": {
          "base_uri": "https://localhost:8080/"
        },
        "id": "-KPP89-FpCUx",
        "outputId": "4b66569e-4a6f-4314-cd06-793bec6e3c7e"
      },
      "outputs": [
        {
          "output_type": "execute_result",
          "data": {
            "text/plain": [
              "-0.4502680131961483"
            ]
          },
          "metadata": {},
          "execution_count": 44
        }
      ],
      "source": [
        "#Using the linear regression function the predict the value\n",
        "clf = LinearRegression()\n",
        "clf.fit(x_train , y_train)\n",
        "clf.score(x_test , y_test)"
      ]
    },
    {
      "cell_type": "markdown",
      "metadata": {
        "id": "iK3Xf8Bh1U0r"
      },
      "source": [
        "Calculating the relation between price of a car and year of production "
      ]
    },
    {
      "cell_type": "code",
      "execution_count": 45,
      "metadata": {
        "id": "2hV9Nz0h1b5R"
      },
      "outputs": [],
      "source": [
        "#Assigning the predictor variable and target variable \n",
        "x = df[['Year']]\n",
        "y = df[['Price (Lakhs)']]"
      ]
    },
    {
      "cell_type": "markdown",
      "metadata": {
        "id": "L-ytv_Sl1kqb"
      },
      "source": [
        "Case 1 [ 10% test data]"
      ]
    },
    {
      "cell_type": "code",
      "execution_count": 46,
      "metadata": {
        "id": "0DQc0MhD1hWC"
      },
      "outputs": [],
      "source": [
        "#splitting the dataset into test and train set\n",
        "x_train, x_test, y_train, y_test = train_test_split(x, y, test_size = 0.1, random_state=2)"
      ]
    },
    {
      "cell_type": "code",
      "execution_count": 47,
      "metadata": {
        "colab": {
          "base_uri": "https://localhost:8080/"
        },
        "id": "vgYD7SUJ1sOI",
        "outputId": "6e2d6972-846b-4c37-9cda-670194b1e1fa"
      },
      "outputs": [
        {
          "output_type": "execute_result",
          "data": {
            "text/plain": [
              "-1.3402199334521652"
            ]
          },
          "metadata": {},
          "execution_count": 47
        }
      ],
      "source": [
        "#Using the linear regression function the predict the value\n",
        "clf = LinearRegression()\n",
        "clf.fit(x_train , y_train)\n",
        "clf.score(x_test , y_test)"
      ]
    },
    {
      "cell_type": "markdown",
      "metadata": {
        "id": "hdshuKb91vWk"
      },
      "source": [
        "Case 2 [ 20% test data]"
      ]
    },
    {
      "cell_type": "code",
      "execution_count": 48,
      "metadata": {
        "id": "oTTluUT71t_z"
      },
      "outputs": [],
      "source": [
        "#splitting the dataset into test and train set\n",
        "x_train, x_test, y_train, y_test = train_test_split(x, y, test_size = 0.2, random_state=2)"
      ]
    },
    {
      "cell_type": "code",
      "execution_count": 49,
      "metadata": {
        "colab": {
          "base_uri": "https://localhost:8080/"
        },
        "id": "8B-3r1qv10hR",
        "outputId": "98828aeb-3f9e-4995-fa9c-d7caa113e614"
      },
      "outputs": [
        {
          "output_type": "execute_result",
          "data": {
            "text/plain": [
              "-0.04752011613010909"
            ]
          },
          "metadata": {},
          "execution_count": 49
        }
      ],
      "source": [
        "#Using the linear regression function the predict the value\n",
        "clf = LinearRegression()\n",
        "clf.fit(x_train , y_train)\n",
        "clf.score(x_test , y_test)"
      ]
    },
    {
      "cell_type": "markdown",
      "metadata": {
        "id": "Q4bA3NVT13Ec"
      },
      "source": [
        "Case 3 [ 30% test data]"
      ]
    },
    {
      "cell_type": "code",
      "execution_count": 50,
      "metadata": {
        "id": "vE2ER5Vl12HE"
      },
      "outputs": [],
      "source": [
        "#splitting the dataset into test and train set\n",
        "x_train, x_test, y_train, y_test = train_test_split(x, y, test_size = 0.3, random_state=2)"
      ]
    },
    {
      "cell_type": "code",
      "execution_count": 51,
      "metadata": {
        "colab": {
          "base_uri": "https://localhost:8080/"
        },
        "id": "WohUIquo18gn",
        "outputId": "1e55be73-77c1-4563-a31a-98f476d263e0"
      },
      "outputs": [
        {
          "output_type": "execute_result",
          "data": {
            "text/plain": [
              "-0.15462609945282146"
            ]
          },
          "metadata": {},
          "execution_count": 51
        }
      ],
      "source": [
        "#Using the linear regression function the predict the value\n",
        "clf = LinearRegression()\n",
        "clf.fit(x_train , y_train)\n",
        "clf.score(x_test , y_test)"
      ]
    },
    {
      "cell_type": "markdown",
      "metadata": {
        "id": "rFqQvHUnnUbE"
      },
      "source": [
        "Case 4 [40% test data]"
      ]
    },
    {
      "cell_type": "code",
      "execution_count": 52,
      "metadata": {
        "id": "WeFt_HAjnkyg"
      },
      "outputs": [],
      "source": [
        "#splitting the dataset into test and train set\n",
        "x_train, x_test, y_train, y_test = train_test_split(x, y, test_size = 0.4, random_state=2)"
      ]
    },
    {
      "cell_type": "code",
      "execution_count": 53,
      "metadata": {
        "colab": {
          "base_uri": "https://localhost:8080/"
        },
        "id": "MTMMiwVbnqf0",
        "outputId": "f8f4ca52-02a2-4607-a24d-8bc5f96ef8f6"
      },
      "outputs": [
        {
          "output_type": "execute_result",
          "data": {
            "text/plain": [
              "-0.2196045302951113"
            ]
          },
          "metadata": {},
          "execution_count": 53
        }
      ],
      "source": [
        "#Using the linear regression function the predict the value\n",
        "clf = LinearRegression()\n",
        "clf.fit(x_train , y_train)\n",
        "clf.score(x_test , y_test)"
      ]
    },
    {
      "cell_type": "markdown",
      "metadata": {
        "id": "lnlGuAF62H6M"
      },
      "source": [
        "Calculating the relation between price of a car and kilometers driven"
      ]
    },
    {
      "cell_type": "code",
      "execution_count": 54,
      "metadata": {
        "id": "0EDCuwv61-DT"
      },
      "outputs": [],
      "source": [
        "#Assigning the predictor variable and target variable \n",
        "x = df[['Kms_driven']]\n",
        "y = df[['Price (Lakhs)']]"
      ]
    },
    {
      "cell_type": "markdown",
      "metadata": {
        "id": "oZfbipnJ2Utb"
      },
      "source": [
        "Case 1 [ 10% test data]"
      ]
    },
    {
      "cell_type": "code",
      "execution_count": 55,
      "metadata": {
        "id": "niC75doV2TA3"
      },
      "outputs": [],
      "source": [
        "#splitting the dataset into test and train set\n",
        "x_train, x_test, y_train, y_test = train_test_split(x, y, test_size = 0.1, random_state=2)"
      ]
    },
    {
      "cell_type": "code",
      "execution_count": 56,
      "metadata": {
        "colab": {
          "base_uri": "https://localhost:8080/"
        },
        "id": "kjGAot-Q2bet",
        "outputId": "c357b8c4-f335-4e5b-a172-70d7c099cd93"
      },
      "outputs": [
        {
          "output_type": "execute_result",
          "data": {
            "text/plain": [
              "-1.2543401714330011"
            ]
          },
          "metadata": {},
          "execution_count": 56
        }
      ],
      "source": [
        "#Using the linear regression function the predict the value\n",
        "clf = LinearRegression()\n",
        "clf.fit(x_train , y_train)\n",
        "clf.score(x_test , y_test)"
      ]
    },
    {
      "cell_type": "markdown",
      "metadata": {
        "id": "L8fLDz-p2eCb"
      },
      "source": [
        "Case 2 [ 20% test data]\n"
      ]
    },
    {
      "cell_type": "code",
      "execution_count": 57,
      "metadata": {
        "id": "Sstu3Gqg2c8n"
      },
      "outputs": [],
      "source": [
        "#splitting the dataset into test and train set\n",
        "x_train, x_test, y_train, y_test = train_test_split(x, y, test_size = 0.2, random_state=2)"
      ]
    },
    {
      "cell_type": "code",
      "execution_count": 58,
      "metadata": {
        "colab": {
          "base_uri": "https://localhost:8080/"
        },
        "id": "D4aiGUqd2jLA",
        "outputId": "c876d55f-5aa9-4c4f-97d1-e0ddeb98bda1"
      },
      "outputs": [
        {
          "output_type": "execute_result",
          "data": {
            "text/plain": [
              "-0.05729198164479077"
            ]
          },
          "metadata": {},
          "execution_count": 58
        }
      ],
      "source": [
        "#Using the linear regression function the predict the value\n",
        "clf = LinearRegression()\n",
        "clf.fit(x_train , y_train)\n",
        "clf.score(x_test , y_test)"
      ]
    },
    {
      "cell_type": "markdown",
      "metadata": {
        "id": "2mQnUtB62lyz"
      },
      "source": [
        "Case 3 [ 30% test data]"
      ]
    },
    {
      "cell_type": "code",
      "execution_count": 59,
      "metadata": {
        "id": "5HdAKere2kou"
      },
      "outputs": [],
      "source": [
        "#splitting the dataset into test and train set\n",
        "x_train, x_test, y_train, y_test = train_test_split(x, y, test_size = 0.3, random_state=2)"
      ]
    },
    {
      "cell_type": "code",
      "execution_count": 60,
      "metadata": {
        "colab": {
          "base_uri": "https://localhost:8080/"
        },
        "id": "cEel1han2sfE",
        "outputId": "cd423e9a-3a26-4934-e13e-d9bd4ae404bd"
      },
      "outputs": [
        {
          "output_type": "execute_result",
          "data": {
            "text/plain": [
              "-0.16361913604973233"
            ]
          },
          "metadata": {},
          "execution_count": 60
        }
      ],
      "source": [
        "#Using the linear regression function the predict the value\n",
        "clf = LinearRegression()\n",
        "clf.fit(x_train , y_train)\n",
        "clf.score(x_test , y_test)"
      ]
    },
    {
      "cell_type": "markdown",
      "metadata": {
        "id": "RcroN2cPpkWi"
      },
      "source": [
        "Case 4 [40% test data]"
      ]
    },
    {
      "cell_type": "code",
      "execution_count": 61,
      "metadata": {
        "id": "_R9G8B0-prm7"
      },
      "outputs": [],
      "source": [
        "#splitting the dataset into test and train set\n",
        "x_train, x_test, y_train, y_test = train_test_split(x, y, test_size = 0.4, random_state=2)"
      ]
    },
    {
      "cell_type": "code",
      "execution_count": 62,
      "metadata": {
        "colab": {
          "base_uri": "https://localhost:8080/"
        },
        "id": "XiRRA1KZpvqk",
        "outputId": "70bcd1f7-d63c-4696-8563-8896bd98cb5d"
      },
      "outputs": [
        {
          "output_type": "execute_result",
          "data": {
            "text/plain": [
              "-0.22073857236656935"
            ]
          },
          "metadata": {},
          "execution_count": 62
        }
      ],
      "source": [
        "#Using the linear regression function the predict the value\n",
        "clf = LinearRegression()\n",
        "clf.fit(x_train , y_train)\n",
        "clf.score(x_test , y_test)"
      ]
    },
    {
      "cell_type": "markdown",
      "metadata": {
        "id": "zXVVYNOVMa16"
      },
      "source": [
        "Calculating the relation between price of a car and Engine"
      ]
    },
    {
      "cell_type": "code",
      "execution_count": 63,
      "metadata": {
        "id": "N1SUr36oMdjh"
      },
      "outputs": [],
      "source": [
        "#Assigning the predictor variable and target variable \n",
        "x = df[['Engine']]\n",
        "y = df[['Price (Lakhs)']]"
      ]
    },
    {
      "cell_type": "markdown",
      "metadata": {
        "id": "vqwPRFFxMrtK"
      },
      "source": [
        "Case 1 [ 10% test data]"
      ]
    },
    {
      "cell_type": "code",
      "execution_count": 64,
      "metadata": {
        "id": "Kzd7qezMMn76"
      },
      "outputs": [],
      "source": [
        "#splitting the dataset into test and train set\n",
        "x_train, x_test, y_train, y_test = train_test_split(x, y, test_size = 0.1, random_state=2)"
      ]
    },
    {
      "cell_type": "code",
      "execution_count": 65,
      "metadata": {
        "colab": {
          "base_uri": "https://localhost:8080/"
        },
        "id": "LaBYwU6uMvNl",
        "outputId": "3dafb028-b820-4ec1-bf80-505cbc0fe304"
      },
      "outputs": [
        {
          "output_type": "execute_result",
          "data": {
            "text/plain": [
              "0.5423153231352085"
            ]
          },
          "metadata": {},
          "execution_count": 65
        }
      ],
      "source": [
        "#Using the linear regression function the predict the value\n",
        "clf = LinearRegression()\n",
        "clf.fit(x_train , y_train)\n",
        "clf.score(x_test , y_test)"
      ]
    },
    {
      "cell_type": "markdown",
      "metadata": {
        "id": "HV638K32M3ri"
      },
      "source": [
        "Case 2 [ 20% test data]"
      ]
    },
    {
      "cell_type": "code",
      "execution_count": 66,
      "metadata": {
        "id": "FS-i9lLYMyl3"
      },
      "outputs": [],
      "source": [
        "#splitting the dataset into test and train set\n",
        "x_train, x_test, y_train, y_test = train_test_split(x, y, test_size = 0.2, random_state=2)"
      ]
    },
    {
      "cell_type": "code",
      "execution_count": 67,
      "metadata": {
        "colab": {
          "base_uri": "https://localhost:8080/"
        },
        "id": "qr9Y50RwM7da",
        "outputId": "61afdb90-dc1a-4753-f784-0903ef4456a8"
      },
      "outputs": [
        {
          "output_type": "execute_result",
          "data": {
            "text/plain": [
              "0.2337001305417128"
            ]
          },
          "metadata": {},
          "execution_count": 67
        }
      ],
      "source": [
        "#Using the linear regression function the predict the value\n",
        "clf = LinearRegression()\n",
        "clf.fit(x_train , y_train)\n",
        "clf.score(x_test , y_test)"
      ]
    },
    {
      "cell_type": "markdown",
      "metadata": {
        "id": "q4QtZee8NAKL"
      },
      "source": [
        "Case 3 [ 30% test data]"
      ]
    },
    {
      "cell_type": "code",
      "execution_count": 68,
      "metadata": {
        "id": "93droSVlM-WE"
      },
      "outputs": [],
      "source": [
        "#splitting the dataset into test and train set\n",
        "x_train, x_test, y_train, y_test = train_test_split(x, y, test_size = 0.3, random_state=2)"
      ]
    },
    {
      "cell_type": "code",
      "execution_count": 69,
      "metadata": {
        "colab": {
          "base_uri": "https://localhost:8080/"
        },
        "id": "A9GLtoykNIWP",
        "outputId": "1ecf86ca-457c-4cfb-c53a-8489be9da999"
      },
      "outputs": [
        {
          "output_type": "execute_result",
          "data": {
            "text/plain": [
              "0.18132752277297937"
            ]
          },
          "metadata": {},
          "execution_count": 69
        }
      ],
      "source": [
        "#Using the linear regression function the predict the value\n",
        "clf = LinearRegression()\n",
        "clf.fit(x_train , y_train)\n",
        "clf.score(x_test , y_test)"
      ]
    },
    {
      "cell_type": "markdown",
      "metadata": {
        "id": "Odk-O_eNp7ru"
      },
      "source": [
        "Case 4 [40% test data]"
      ]
    },
    {
      "cell_type": "code",
      "execution_count": 70,
      "metadata": {
        "id": "qABxjyucqEcH"
      },
      "outputs": [],
      "source": [
        "#splitting the dataset into test and train set\n",
        "x_train, x_test, y_train, y_test = train_test_split(x, y, test_size = 0.4, random_state=2)"
      ]
    },
    {
      "cell_type": "code",
      "execution_count": 71,
      "metadata": {
        "colab": {
          "base_uri": "https://localhost:8080/"
        },
        "id": "eqqWKl43qLcj",
        "outputId": "e507efe9-30ce-4bce-81b8-bae57491a1ab"
      },
      "outputs": [
        {
          "output_type": "execute_result",
          "data": {
            "text/plain": [
              "0.08827776994052916"
            ]
          },
          "metadata": {},
          "execution_count": 71
        }
      ],
      "source": [
        "#Using the linear regression function the predict the value\n",
        "clf = LinearRegression()\n",
        "clf.fit(x_train , y_train)\n",
        "clf.score(x_test , y_test)"
      ]
    },
    {
      "cell_type": "markdown",
      "metadata": {
        "id": "1fmhXz5ZNbEX"
      },
      "source": [
        "Calculating the relation between price of a car and Horsepower"
      ]
    },
    {
      "cell_type": "code",
      "execution_count": 72,
      "metadata": {
        "id": "86hM-fuRNLx8"
      },
      "outputs": [],
      "source": [
        "#Assigning the predictor variable and target variable \n",
        "x = df[['Horsepower (kw)']]\n",
        "y = df[['Price (Lakhs)']]"
      ]
    },
    {
      "cell_type": "markdown",
      "metadata": {
        "id": "P8uKWZihNnvL"
      },
      "source": [
        "Case 1 [ 10% test data]"
      ]
    },
    {
      "cell_type": "code",
      "execution_count": 73,
      "metadata": {
        "id": "zzgjt1s6NkWq"
      },
      "outputs": [],
      "source": [
        "#splitting the dataset into test and train set\n",
        "x_train, x_test, y_train, y_test = train_test_split(x, y, test_size = 0.1, random_state=2)"
      ]
    },
    {
      "cell_type": "code",
      "execution_count": 74,
      "metadata": {
        "colab": {
          "base_uri": "https://localhost:8080/"
        },
        "id": "4IzEClkfNsPm",
        "outputId": "f33de168-2db9-4232-871f-cd084fdd9722"
      },
      "outputs": [
        {
          "output_type": "execute_result",
          "data": {
            "text/plain": [
              "0.4078795826496524"
            ]
          },
          "metadata": {},
          "execution_count": 74
        }
      ],
      "source": [
        "#Using the linear regression function the predict the value\n",
        "clf = LinearRegression()\n",
        "clf.fit(x_train , y_train)\n",
        "clf.score(x_test , y_test)"
      ]
    },
    {
      "cell_type": "markdown",
      "metadata": {
        "id": "YmOx7FQbNzS7"
      },
      "source": [
        "Case 2 [ 20% test data]"
      ]
    },
    {
      "cell_type": "code",
      "execution_count": 75,
      "metadata": {
        "id": "dl-FfTEHNvk4"
      },
      "outputs": [],
      "source": [
        "#splitting the dataset into test and train set\n",
        "x_train, x_test, y_train, y_test = train_test_split(x, y, test_size = 0.2, random_state=2)"
      ]
    },
    {
      "cell_type": "code",
      "execution_count": 76,
      "metadata": {
        "colab": {
          "base_uri": "https://localhost:8080/"
        },
        "id": "MjfDRefPN22X",
        "outputId": "2a0ad1f4-0f34-4670-99a6-f354c8137782"
      },
      "outputs": [
        {
          "output_type": "execute_result",
          "data": {
            "text/plain": [
              "0.6000689635529655"
            ]
          },
          "metadata": {},
          "execution_count": 76
        }
      ],
      "source": [
        "#Using the linear regression function the predict the value\n",
        "clf = LinearRegression()\n",
        "clf.fit(x_train , y_train)\n",
        "clf.score(x_test , y_test)"
      ]
    },
    {
      "cell_type": "markdown",
      "metadata": {
        "id": "dt8H5JDROJ1L"
      },
      "source": [
        "Case 3 [ 30% test data]"
      ]
    },
    {
      "cell_type": "code",
      "execution_count": 77,
      "metadata": {
        "id": "P2DXjDFoN-9A"
      },
      "outputs": [],
      "source": [
        "#splitting the dataset into test and train set\n",
        "x_train, x_test, y_train, y_test = train_test_split(x, y, test_size = 0.3, random_state=2)"
      ]
    },
    {
      "cell_type": "code",
      "execution_count": 78,
      "metadata": {
        "colab": {
          "base_uri": "https://localhost:8080/"
        },
        "id": "hTBaWNouON7A",
        "outputId": "2434676d-120a-4c4c-92fd-1e476026a83a"
      },
      "outputs": [
        {
          "output_type": "execute_result",
          "data": {
            "text/plain": [
              "0.6277982239521187"
            ]
          },
          "metadata": {},
          "execution_count": 78
        }
      ],
      "source": [
        "#Using the linear regression function the predict the value\n",
        "clf = LinearRegression()\n",
        "clf.fit(x_train , y_train)\n",
        "clf.score(x_test , y_test)"
      ]
    },
    {
      "cell_type": "markdown",
      "metadata": {
        "id": "JcCwQ6GPqSkL"
      },
      "source": [
        "Case 4 [40% test data]"
      ]
    },
    {
      "cell_type": "code",
      "execution_count": 79,
      "metadata": {
        "id": "9ZS5nGNYzSgW"
      },
      "outputs": [],
      "source": [
        "#splitting the dataset into test and train set\n",
        "x_train, x_test, y_train, y_test = train_test_split(x, y, test_size = 0.4, random_state=2)"
      ]
    },
    {
      "cell_type": "code",
      "execution_count": 80,
      "metadata": {
        "colab": {
          "base_uri": "https://localhost:8080/"
        },
        "id": "VSUDb_F1zju6",
        "outputId": "61d96220-79ca-4b33-9093-1ecce1465b46"
      },
      "outputs": [
        {
          "output_type": "execute_result",
          "data": {
            "text/plain": [
              "0.46367637131670103"
            ]
          },
          "metadata": {},
          "execution_count": 80
        }
      ],
      "source": [
        "#Using the linear regression function the predict the value\n",
        "clf = LinearRegression()\n",
        "clf.fit(x_train , y_train)\n",
        "clf.score(x_test , y_test)"
      ]
    },
    {
      "cell_type": "markdown",
      "source": [
        "####After implementing linear regression using all the four scenarios , we came to a conclusion that taking 30-70 test_train data is the most ideal one for prediction."
      ],
      "metadata": {
        "id": "nC58XaGcah51"
      }
    },
    {
      "cell_type": "markdown",
      "source": [
        "##Underfitting and Overfitting model "
      ],
      "metadata": {
        "id": "nM5lMngHa07i"
      }
    },
    {
      "cell_type": "markdown",
      "source": [
        "A statistical model or a machine learning algorithm is said to have underfitting when it cannot capture the underlying trend of the data. Its occurrence simply means that our model or the algorithm does not fit the data well enough. It usually happens when we have fewer data to build an accurate model.\n",
        "\n",
        "\n",
        "A statistical model is said to be overfitted when we train it with a lot of data. When a model gets trained with so much data, it starts learning from the noise and inaccurate data entries in our data set.\n"
      ],
      "metadata": {
        "id": "6HsUPCUybCEy"
      }
    },
    {
      "cell_type": "markdown",
      "metadata": {
        "id": "fQzdn6EuelEv"
      },
      "source": [
        "#Decision tree"
      ]
    },
    {
      "cell_type": "markdown",
      "source": [
        "Decision tree builds regression or classification models in the form of a tree structure. It breaks down a dataset into smaller and smaller subsets while at the same time an associated decision tree is incrementally developed. The final result is a tree with decision nodes and leaf nodes.\n"
      ],
      "metadata": {
        "id": "JcpWRwQobNhy"
      }
    },
    {
      "cell_type": "markdown",
      "metadata": {
        "id": "ttwCOUsXpbhs"
      },
      "source": [
        "Case 1 : Engine"
      ]
    },
    {
      "cell_type": "code",
      "execution_count": 81,
      "metadata": {
        "id": "J5XpBGawfPly"
      },
      "outputs": [],
      "source": [
        "#Assigning the predictor variable and target variable \n",
        "x = df[['Engine']]\n",
        "y = df[['Price (Lakhs)']]"
      ]
    },
    {
      "cell_type": "code",
      "execution_count": 82,
      "metadata": {
        "id": "fWTdkk0yq4Hb"
      },
      "outputs": [],
      "source": [
        "#Split the Dataset into Training and Test Dataset\n",
        "from sklearn.model_selection import train_test_split\n",
        "x_train, x_test, y_train, y_test = train_test_split(x, y, test_size=0.3, random_state=0)"
      ]
    },
    {
      "cell_type": "code",
      "execution_count": 83,
      "metadata": {
        "colab": {
          "base_uri": "https://localhost:8080/"
        },
        "id": "MWfSERKMq6cM",
        "outputId": "cccc3e08-ff65-426e-f1b1-04bca5763c92"
      },
      "outputs": [
        {
          "output_type": "execute_result",
          "data": {
            "text/plain": [
              "DecisionTreeRegressor(random_state=0)"
            ]
          },
          "metadata": {},
          "execution_count": 83
        }
      ],
      "source": [
        "#Import the Decision Tree Regressor \n",
        "from sklearn.tree import DecisionTreeRegressor  \n",
        "  \n",
        "#Create a decision tree regressor object  from DecisionTreeRegressor class\n",
        "DtReg = DecisionTreeRegressor(random_state = 0)  \n",
        "  \n",
        "#Fit the decision tree regressor with training data represented by x_train and y_train\n",
        "DtReg.fit(x_train, y_train)\n"
      ]
    },
    {
      "cell_type": "code",
      "execution_count": 84,
      "metadata": {
        "colab": {
          "base_uri": "https://localhost:8080/"
        },
        "id": "6xRujzPlDG1g",
        "outputId": "10a9cbfd-ad6f-4b67-c110-4bc93c77f91a"
      },
      "outputs": [
        {
          "output_type": "stream",
          "name": "stdout",
          "text": [
            "     Engine\n",
            "78     1998\n",
            "139    5204\n",
            "68     1493\n",
            "98     1498\n",
            "87     1997\n",
            "..      ...\n",
            "9      1462\n",
            "108    2995\n",
            "67     1998\n",
            "124    2998\n",
            "47     1498\n",
            "\n",
            "[98 rows x 1 columns]      Price (Lakhs)\n",
            "78           10.00\n",
            "139         111.00\n",
            "68            8.09\n",
            "98            3.17\n",
            "87           50.00\n",
            "..             ...\n",
            "9             5.00\n",
            "108          75.00\n",
            "67           40.33\n",
            "124          32.00\n",
            "47            5.93\n",
            "\n",
            "[98 rows x 1 columns]\n"
          ]
        }
      ],
      "source": [
        "#Showing x_train and y_train data\n",
        "print(x_train, y_train)"
      ]
    },
    {
      "cell_type": "code",
      "execution_count": 85,
      "metadata": {
        "colab": {
          "base_uri": "https://localhost:8080/"
        },
        "id": "QCJOEhtlHFgn",
        "outputId": "b1bab4a6-c369-4084-a26c-0f2b39f96fb6"
      },
      "outputs": [
        {
          "output_type": "stream",
          "name": "stdout",
          "text": [
            "     Engine\n",
            "45     1197\n",
            "60     6262\n",
            "7      1200\n",
            "51      999\n",
            "66     2995\n",
            "27     1197\n",
            "71     1197\n",
            "54     3855\n",
            "130    1998\n",
            "8      1462\n",
            "76     1197\n",
            "16     1956\n",
            "132    2993\n",
            "129    1998\n",
            "131    1998\n",
            "103    1499\n",
            "110    3996\n",
            "85     1997\n",
            "33     1199\n",
            "56     3855\n",
            "94     2981\n",
            "22     2184\n",
            "144    6749\n",
            "24     1493\n",
            "2       998\n",
            "118    2994\n",
            "26     2179\n",
            "128    1998\n",
            "18     1199\n",
            "10     1197\n",
            "101    1499\n",
            "43     1086\n",
            "105    2995\n",
            "113    3998\n",
            "50      999\n",
            "86     1997\n",
            "61     6262\n",
            "112    3998\n",
            "93     3996\n",
            "59     3990\n",
            "44     1197\n",
            "30     1498\n",
            "119    2994      Price (Lakhs)\n",
            "45            4.00\n",
            "60          400.00\n",
            "7             3.00\n",
            "51            3.72\n",
            "66           90.00\n",
            "27            3.80\n",
            "71            4.00\n",
            "54          120.00\n",
            "130          31.44\n",
            "8             6.10\n",
            "76            5.15\n",
            "16            9.35\n",
            "132          50.56\n",
            "129          49.01\n",
            "131          23.00\n",
            "103           4.17\n",
            "110         100.00\n",
            "85           30.00\n",
            "33            4.90\n",
            "56          106.00\n",
            "94           88.00\n",
            "22            8.24\n",
            "144         605.00\n",
            "24            8.10\n",
            "2             4.00\n",
            "118          50.00\n",
            "26            6.54\n",
            "128          21.32\n",
            "18            2.87\n",
            "10            2.30\n",
            "101           2.58\n",
            "43            2.33\n",
            "105         111.00\n",
            "113         100.00\n",
            "50            2.12\n",
            "86           20.04\n",
            "61          200.00\n",
            "112         100.00\n",
            "93           50.00\n",
            "59          300.00\n",
            "44            1.67\n",
            "30            4.10\n",
            "119          70.00\n"
          ]
        }
      ],
      "source": [
        "#Showing x_test and y_test data\n",
        "print (x_test, y_test)"
      ]
    },
    {
      "cell_type": "code",
      "execution_count": 86,
      "metadata": {
        "colab": {
          "base_uri": "https://localhost:8080/"
        },
        "id": "TSCwySVJrEa6",
        "outputId": "d0b3a84a-1b2f-4926-feae-99294b79d3ec"
      },
      "outputs": [
        {
          "output_type": "stream",
          "name": "stdout",
          "text": [
            "[  4.29285714 145.           2.5          2.29        63.83\n",
            "   4.29285714   4.29285714 100.          25.165        5.522\n",
            "   4.29285714   7.13333333  55.          25.165       25.165\n",
            "  60.1425      94.25        50.9525       4.548      100.\n",
            "  55.           5.29       189.           5.93         3.\n",
            "  55.           5.29        25.165        4.548        4.29285714\n",
            "  60.1425       2.29        63.83        94.25         2.29\n",
            "  50.9525     145.          94.25        94.25       350.\n",
            "   4.29285714   5.47        55.        ]\n",
            "R-Square Error associated with Decision Tree Regression is: 0.5498105746040209\n"
          ]
        }
      ],
      "source": [
        "#Predicted Price from test dataset w.r.t Decision Tree Regression\n",
        "y_predict_dtr = DtReg.predict((x_test))\n",
        "\n",
        "\n",
        "print (y_predict_dtr)\n",
        "\n",
        "\n",
        "#Model Evaluation using R-Square for Decision Tree Regression\n",
        "from sklearn import metrics\n",
        "r_square = metrics.r2_score(y_test, y_predict_dtr)\n",
        "print('R-Square Error associated with Decision Tree Regression is:', r_square)"
      ]
    },
    {
      "cell_type": "code",
      "execution_count": 87,
      "metadata": {
        "colab": {
          "base_uri": "https://localhost:8080/",
          "height": 300
        },
        "id": "wVFRePs4DdxY",
        "outputId": "2a2a7e3e-0084-4bbe-c528-b8dc40c5123b"
      },
      "outputs": [
        {
          "output_type": "display_data",
          "data": {
            "image/png": "[encoded data removed]",
            "text/plain": [
              "<Figure size 432x288 with 1 Axes>"
            ]
          },
          "metadata": {
            "needs_background": "light"
          }
        }
      ],
      "source": [
        "#Plotting a graph establishing the relation of price wrt engine capacity \n",
        "x = x_test\n",
        "y= y_predict_dtr\n",
        "  \n",
        "ax = plt.axes()  \n",
        "ax.set_facecolor(\"#cf97cf\")  \n",
        "  \n",
        "plt.scatter(x, y, color = 'r', s = 10)\n",
        "plt.xlabel('Engine')\n",
        "plt.ylabel('Price (Lakhs)')\n",
        "plt.title('Price of a car wrt engine capacity', fontsize = 20)\n",
        "  \n",
        "plt.show()"
      ]
    },
    {
      "cell_type": "markdown",
      "metadata": {
        "id": "I0jRo1m5DZNM"
      },
      "source": [
        "Case 2 : Horsepower\n"
      ]
    },
    {
      "cell_type": "code",
      "execution_count": 88,
      "metadata": {
        "id": "k4EnzjJEsj7b"
      },
      "outputs": [],
      "source": [
        "#Assigning the predictor variable and target variable \n",
        "x = df[['Horsepower (kw)']]\n",
        "y = df[['Price (Lakhs)']]"
      ]
    },
    {
      "cell_type": "code",
      "execution_count": 89,
      "metadata": {
        "id": "SAfpZtPuxvpQ"
      },
      "outputs": [],
      "source": [
        "#Split the Dataset into Training and Test Dataset\n",
        "from sklearn.model_selection import train_test_split\n",
        "x_train, x_test, y_train, y_test = train_test_split(x, y, test_size=0.3, random_state=0)"
      ]
    },
    {
      "cell_type": "code",
      "execution_count": 90,
      "metadata": {
        "colab": {
          "base_uri": "https://localhost:8080/"
        },
        "id": "HAMQ4BjHx1bO",
        "outputId": "a46940c0-6536-4a1f-f388-68ba704d3c54"
      },
      "outputs": [
        {
          "output_type": "execute_result",
          "data": {
            "text/plain": [
              "DecisionTreeRegressor(random_state=0)"
            ]
          },
          "metadata": {},
          "execution_count": 90
        }
      ],
      "source": [
        "#Import the Decision Tree Regressor \n",
        "from sklearn.tree import DecisionTreeRegressor  \n",
        "  \n",
        "#Create a decision tree regressor object  from DecisionTreeRegressor class\n",
        "DtReg = DecisionTreeRegressor(random_state = 0)  \n",
        "  \n",
        "#Fit the decision tree regressor with training data represented by x_train and y_train\n",
        "DtReg.fit(x_train, y_train)"
      ]
    },
    {
      "cell_type": "code",
      "execution_count": 91,
      "metadata": {
        "colab": {
          "base_uri": "https://localhost:8080/"
        },
        "id": "eBRx8CLQqKYG",
        "outputId": "4bd659cd-5d63-46c5-d2f0-b49a4485c10b"
      },
      "outputs": [
        {
          "output_type": "stream",
          "name": "stdout",
          "text": [
            "     Horsepower (kw)\n",
            "78               115\n",
            "139              522\n",
            "68                94\n",
            "98                82\n",
            "87               147\n",
            "..               ...\n",
            "9                 67\n",
            "108              220\n",
            "67               166\n",
            "124              327\n",
            "47                97\n",
            "\n",
            "[98 rows x 1 columns]      Price (Lakhs)\n",
            "78           10.00\n",
            "139         111.00\n",
            "68            8.09\n",
            "98            3.17\n",
            "87           50.00\n",
            "..             ...\n",
            "9             5.00\n",
            "108          75.00\n",
            "67           40.33\n",
            "124          32.00\n",
            "47            5.93\n",
            "\n",
            "[98 rows x 1 columns]\n"
          ]
        }
      ],
      "source": [
        "#Showing x_train and y_train data\n",
        "print(x_train, y_train)"
      ]
    },
    {
      "cell_type": "code",
      "execution_count": 92,
      "metadata": {
        "colab": {
          "base_uri": "https://localhost:8080/"
        },
        "id": "uBLPMZqlqnsd",
        "outputId": "ab666368-ae69-441d-907b-01c7a402d8d4"
      },
      "outputs": [
        {
          "output_type": "stream",
          "name": "stdout",
          "text": [
            "     Horsepower (kw)\n",
            "45                62\n",
            "60               795\n",
            "7                 60\n",
            "51                52\n",
            "66               286\n",
            "27                84\n",
            "71                74\n",
            "54               440\n",
            "130              132\n",
            "8                 67\n",
            "76                63\n",
            "16               123\n",
            "132              190\n",
            "129              212\n",
            "131              132\n",
            "103               72\n",
            "110              383\n",
            "85               152\n",
            "33                70\n",
            "56               454\n",
            "94               358\n",
            "22               105\n",
            "144              417\n",
            "24                65\n",
            "2                 46\n",
            "118              220\n",
            "26                95\n",
            "128              166\n",
            "18                62\n",
            "10                61\n",
            "101               70\n",
            "43                47\n",
            "105              230\n",
            "113              375\n",
            "50                52\n",
            "86               147\n",
            "61               795\n",
            "112              375\n",
            "93               327\n",
            "59               985\n",
            "44                62\n",
            "30                64\n",
            "119              220\n"
          ]
        }
      ],
      "source": [
        "print (x_test)"
      ]
    },
    {
      "cell_type": "code",
      "execution_count": 93,
      "metadata": {
        "colab": {
          "base_uri": "https://localhost:8080/"
        },
        "id": "AyaekolcqtXo",
        "outputId": "f6d506e1-5e01-4204-a616-3f9ca4d5e99b"
      },
      "outputs": [
        {
          "output_type": "stream",
          "name": "stdout",
          "text": [
            "[  3.46       102.           2.5          3.         133.\n",
            "  37.6          5.412      370.          10.77         5.\n",
            "   2.29         7.13333333  55.          98.          10.77\n",
            "   4.79        76.          50.           3.4        100.\n",
            "  80.          18.74       189.           5.16666667   3.\n",
            "  67.5          5.29        40.33         3.46         1.58\n",
            "   3.4          3.          50.          50.5          3.\n",
            "  50.         102.          50.5         40.86666667 350.\n",
            "   3.46         4.5         67.5       ]\n",
            "R-Square Error associated with Decision Tree Regression is: 0.38447343918725185\n"
          ]
        }
      ],
      "source": [
        "#Predicted Price from test dataset w.r.t Decision Tree Regression\n",
        "y_predict_dtr = DtReg.predict((x_test))\n",
        "\n",
        "\n",
        "print (y_predict_dtr)\n",
        "\n",
        "\n",
        "#Model Evaluation using R-Square for Decision Tree Regression\n",
        "from sklearn import metrics\n",
        "r_square = metrics.r2_score(y_test, y_predict_dtr)\n",
        "print('R-Square Error associated with Decision Tree Regression is:', r_square)"
      ]
    },
    {
      "cell_type": "code",
      "execution_count": 94,
      "metadata": {
        "colab": {
          "base_uri": "https://localhost:8080/",
          "height": 300
        },
        "id": "erdq3hGJq0Zc",
        "outputId": "be0a905e-81f2-42db-d877-991fe059f9b1"
      },
      "outputs": [
        {
          "output_type": "display_data",
          "data": {
            "image/png": "[encoded data removed]",
            "text/plain": [
              "<Figure size 432x288 with 1 Axes>"
            ]
          },
          "metadata": {
            "needs_background": "light"
          }
        }
      ],
      "source": [
        "#Plotting a graph establishing the relation of price wrt horsepower\n",
        "x = x_test\n",
        "y= y_predict_dtr\n",
        "  \n",
        "ax = plt.axes()  \n",
        "ax.set_facecolor(\"#cf97cf\")  \n",
        "  \n",
        "plt.scatter(x, y, color = 'r', s = 10)\n",
        "plt.xlabel('Horsepower')\n",
        "plt.ylabel('Price (Lakhs)')\n",
        "plt.title('Price of a car wrt horsepower', fontsize = 20)\n",
        "  \n",
        "plt.show()"
      ]
    },
    {
      "cell_type": "markdown",
      "metadata": {
        "id": "YFPXpTsMp1BO"
      },
      "source": [
        "Case 3 : Buyers"
      ]
    },
    {
      "cell_type": "code",
      "execution_count": 95,
      "metadata": {
        "id": "b48NENQC7RBd"
      },
      "outputs": [],
      "source": [
        "#Assigning the predictor variable and target variable \n",
        "x = df[['Buyers']]\n",
        "y = df[['Price (Lakhs)']]"
      ]
    },
    {
      "cell_type": "code",
      "execution_count": 96,
      "metadata": {
        "id": "ns39nHYY7WHc"
      },
      "outputs": [],
      "source": [
        "#Split the Dataset into Training and Test Dataset\n",
        "from sklearn.model_selection import train_test_split\n",
        "x_train, x_test, y_train, y_test = train_test_split(x, y, test_size=0.3, random_state=0)"
      ]
    },
    {
      "cell_type": "code",
      "execution_count": 97,
      "metadata": {
        "colab": {
          "base_uri": "https://localhost:8080/"
        },
        "id": "zIMefwlI9bj-",
        "outputId": "fe2e3314-e65d-40dc-9fb9-4b4fb9a08518"
      },
      "outputs": [
        {
          "output_type": "execute_result",
          "data": {
            "text/plain": [
              "DecisionTreeRegressor(random_state=0)"
            ]
          },
          "metadata": {},
          "execution_count": 97
        }
      ],
      "source": [
        "#Import the Decision Tree Regressor \n",
        "from sklearn.tree import DecisionTreeRegressor  \n",
        "  \n",
        "#Create a decision tree regressor object  from DecisionTreeRegressor class\n",
        "DtReg = DecisionTreeRegressor(random_state = 0)  \n",
        "  \n",
        "#Fit the decision tree regressor with training data represented by x_train and y_train\n",
        "DtReg.fit(x_train, y_train)"
      ]
    },
    {
      "cell_type": "code",
      "execution_count": 98,
      "metadata": {
        "colab": {
          "base_uri": "https://localhost:8080/"
        },
        "id": "W-wWRM327q-C",
        "outputId": "456c3c18-2e2d-45ae-b5ed-5fd40579d353"
      },
      "outputs": [
        {
          "output_type": "stream",
          "name": "stdout",
          "text": [
            "     Buyers\n",
            "78        2\n",
            "139       4\n",
            "68        2\n",
            "98        2\n",
            "87        2\n",
            "..      ...\n",
            "9         2\n",
            "108       2\n",
            "67        2\n",
            "124       3\n",
            "47        2\n",
            "\n",
            "[98 rows x 1 columns]      Price (Lakhs)\n",
            "78           10.00\n",
            "139         111.00\n",
            "68            8.09\n",
            "98            3.17\n",
            "87           50.00\n",
            "..             ...\n",
            "9             5.00\n",
            "108          75.00\n",
            "67           40.33\n",
            "124          32.00\n",
            "47            5.93\n",
            "\n",
            "[98 rows x 1 columns]\n"
          ]
        }
      ],
      "source": [
        "print (x_train , y_train)"
      ]
    },
    {
      "cell_type": "code",
      "execution_count": 99,
      "metadata": {
        "colab": {
          "base_uri": "https://localhost:8080/"
        },
        "id": "megZeMIf7t-p",
        "outputId": "f1a6a9fc-172e-4dfb-a2a2-364003dec477"
      },
      "outputs": [
        {
          "output_type": "stream",
          "name": "stdout",
          "text": [
            "     Buyers\n",
            "45        2\n",
            "60        2\n",
            "7         2\n",
            "51        2\n",
            "66        3\n",
            "27        2\n",
            "71        2\n",
            "54        2\n",
            "130       2\n",
            "8         2\n",
            "76        2\n",
            "16        2\n",
            "132       5\n",
            "129       2\n",
            "131       2\n",
            "103       2\n",
            "110       2\n",
            "85        2\n",
            "33        2\n",
            "56        3\n",
            "94        2\n",
            "22        2\n",
            "144       4\n",
            "24        2\n",
            "2         2\n",
            "118       3\n",
            "26        2\n",
            "128       3\n",
            "18        2\n",
            "10        2\n",
            "101       3\n",
            "43        2\n",
            "105       2\n",
            "113       2\n",
            "50        2\n",
            "86        2\n",
            "61        2\n",
            "112       2\n",
            "93        2\n",
            "59        2\n",
            "44        2\n",
            "30        2\n",
            "119       3      Price (Lakhs)\n",
            "45            4.00\n",
            "60          400.00\n",
            "7             3.00\n",
            "51            3.72\n",
            "66           90.00\n",
            "27            3.80\n",
            "71            4.00\n",
            "54          120.00\n",
            "130          31.44\n",
            "8             6.10\n",
            "76            5.15\n",
            "16            9.35\n",
            "132          50.56\n",
            "129          49.01\n",
            "131          23.00\n",
            "103           4.17\n",
            "110         100.00\n",
            "85           30.00\n",
            "33            4.90\n",
            "56          106.00\n",
            "94           88.00\n",
            "22            8.24\n",
            "144         605.00\n",
            "24            8.10\n",
            "2             4.00\n",
            "118          50.00\n",
            "26            6.54\n",
            "128          21.32\n",
            "18            2.87\n",
            "10            2.30\n",
            "101           2.58\n",
            "43            2.33\n",
            "105         111.00\n",
            "113         100.00\n",
            "50            2.12\n",
            "86           20.04\n",
            "61          200.00\n",
            "112         100.00\n",
            "93           50.00\n",
            "59          300.00\n",
            "44            1.67\n",
            "30            4.10\n",
            "119          70.00\n"
          ]
        }
      ],
      "source": [
        "print (x_test , y_test)"
      ]
    },
    {
      "cell_type": "code",
      "execution_count": 100,
      "metadata": {
        "colab": {
          "base_uri": "https://localhost:8080/"
        },
        "id": "NL066XzI741H",
        "outputId": "6fd4f795-aab0-4746-875d-8dfd86b65926"
      },
      "outputs": [
        {
          "output_type": "stream",
          "name": "stdout",
          "text": [
            "[ 31.65987179  31.65987179  31.65987179  31.65987179 140.76642857\n",
            "  31.65987179  31.65987179  31.65987179  31.65987179  31.65987179\n",
            "  31.65987179  31.65987179 122.          31.65987179  31.65987179\n",
            "  31.65987179  31.65987179  31.65987179  31.65987179 140.76642857\n",
            "  31.65987179  31.65987179 156.2         31.65987179  31.65987179\n",
            " 140.76642857  31.65987179 140.76642857  31.65987179  31.65987179\n",
            " 140.76642857  31.65987179  31.65987179  31.65987179  31.65987179\n",
            "  31.65987179  31.65987179  31.65987179  31.65987179  31.65987179\n",
            "  31.65987179  31.65987179 140.76642857]\n",
            "R-Square Error associated with Decision Tree Regression is: 0.06112448692031136\n"
          ]
        }
      ],
      "source": [
        "#Predicted Price from test dataset w.r.t Decision Tree Regression\n",
        "y_predict_dtr = DtReg.predict((x_test))\n",
        "\n",
        "\n",
        "print (y_predict_dtr)\n",
        "\n",
        "\n",
        "#Model Evaluation using R-Square for Decision Tree Regression\n",
        "from sklearn import metrics\n",
        "r_square = metrics.r2_score(y_test, y_predict_dtr)\n",
        "print('R-Square Error associated with Decision Tree Regression is:', r_square)"
      ]
    },
    {
      "cell_type": "code",
      "execution_count": 101,
      "metadata": {
        "colab": {
          "base_uri": "https://localhost:8080/",
          "height": 300
        },
        "id": "hWsuApJx8NHA",
        "outputId": "1141f0d5-59a1-45a8-8fa1-dc846741fb07"
      },
      "outputs": [
        {
          "output_type": "display_data",
          "data": {
            "image/png": "[encoded data removed]",
            "text/plain": [
              "<Figure size 432x288 with 1 Axes>"
            ]
          },
          "metadata": {
            "needs_background": "light"
          }
        }
      ],
      "source": [
        "#Plotting a graph establishing the relation of price wrt Buyers \n",
        "x = x_test\n",
        "y= y_predict_dtr\n",
        "  \n",
        "ax = plt.axes()  \n",
        "ax.set_facecolor(\"#cf97cf\")  \n",
        "  \n",
        "plt.scatter(x, y, color ='r', s = 10)\n",
        "plt.xlabel('Buyers')\n",
        "plt.ylabel('Price (Lakhs)')\n",
        "plt.title('Price of a car wrt Buyers', fontsize = 20)\n",
        "  \n",
        "plt.show()"
      ]
    },
    {
      "cell_type": "markdown",
      "metadata": {
        "id": "SBrZUhhM5dqk"
      },
      "source": [
        "Case 4 : Kilometers Driven"
      ]
    },
    {
      "cell_type": "code",
      "execution_count": 102,
      "metadata": {
        "id": "bPaDIZ9l36Xi"
      },
      "outputs": [],
      "source": [
        "#Assigning the predictor variable and target variable \n",
        "x = df[['Kms_driven']]\n",
        "y = df[['Price (Lakhs)']]"
      ]
    },
    {
      "cell_type": "code",
      "execution_count": 103,
      "metadata": {
        "id": "VzPLEbSo4CHo"
      },
      "outputs": [],
      "source": [
        "#Split the Dataset into Training and Test Dataset\n",
        "from sklearn.model_selection import train_test_split\n",
        "x_train, x_test, y_train, y_test = train_test_split(x, y, test_size=0.3, random_state=0)"
      ]
    },
    {
      "cell_type": "code",
      "execution_count": 104,
      "metadata": {
        "colab": {
          "base_uri": "https://localhost:8080/"
        },
        "id": "PWOVtmZh4O1M",
        "outputId": "c23120a2-0b41-4fb3-e247-ce72a391d410"
      },
      "outputs": [
        {
          "output_type": "execute_result",
          "data": {
            "text/plain": [
              "DecisionTreeRegressor(random_state=0)"
            ]
          },
          "metadata": {},
          "execution_count": 104
        }
      ],
      "source": [
        "#Import the Decision Tree Regressor \n",
        "from sklearn.tree import DecisionTreeRegressor  \n",
        "  \n",
        "#Create a decision tree regressor object  from DecisionTreeRegressor class\n",
        "DtReg = DecisionTreeRegressor(random_state = 0)  \n",
        "  \n",
        "#Fit the decision tree regressor with training data represented by x_train and y_train\n",
        "DtReg.fit(x_train, y_train)"
      ]
    },
    {
      "cell_type": "code",
      "execution_count": 105,
      "metadata": {
        "colab": {
          "base_uri": "https://localhost:8080/"
        },
        "id": "L0SZNwYY4UoA",
        "outputId": "9eadf77b-b7c9-4f4d-9802-d4367f43767f"
      },
      "outputs": [
        {
          "output_type": "stream",
          "name": "stdout",
          "text": [
            "     Kms_driven\n",
            "78        39000\n",
            "139       35000\n",
            "68        36000\n",
            "98        30000\n",
            "87        20000\n",
            "..          ...\n",
            "9         15000\n",
            "108       22000\n",
            "67        16000\n",
            "124        3600\n",
            "47        39000\n",
            "\n",
            "[98 rows x 1 columns]      Price (Lakhs)\n",
            "78           10.00\n",
            "139         111.00\n",
            "68            8.09\n",
            "98            3.17\n",
            "87           50.00\n",
            "..             ...\n",
            "9             5.00\n",
            "108          75.00\n",
            "67           40.33\n",
            "124          32.00\n",
            "47            5.93\n",
            "\n",
            "[98 rows x 1 columns]\n"
          ]
        }
      ],
      "source": [
        "print (x_train , y_train)"
      ]
    },
    {
      "cell_type": "code",
      "execution_count": 106,
      "metadata": {
        "colab": {
          "base_uri": "https://localhost:8080/"
        },
        "id": "WT6wS4nz4WSU",
        "outputId": "1aa3e8af-05a9-4cc6-e91e-4402b3b917c0"
      },
      "outputs": [
        {
          "output_type": "stream",
          "name": "stdout",
          "text": [
            "     Kms_driven\n",
            "45        48508\n",
            "60        60000\n",
            "7         41000\n",
            "51        82000\n",
            "66        40000\n",
            "27        35550\n",
            "71        10000\n",
            "54        32000\n",
            "130       50000\n",
            "8         25000\n",
            "76        15487\n",
            "16        32000\n",
            "132       32000\n",
            "129       35000\n",
            "131       20000\n",
            "103       54000\n",
            "110       22000\n",
            "85        10000\n",
            "33        55000\n",
            "56        38000\n",
            "94        19000\n",
            "22         4000\n",
            "144       35000\n",
            "24         5000\n",
            "2         40005\n",
            "118       20000\n",
            "26        43000\n",
            "128       45000\n",
            "18        48660\n",
            "10        24530\n",
            "101       35000\n",
            "43        35522\n",
            "105       16000\n",
            "113       50000\n",
            "50        82000\n",
            "86        41000\n",
            "61        60000\n",
            "112       50000\n",
            "93         7000\n",
            "59        40000\n",
            "44        48508\n",
            "30        39522\n",
            "119       20000      Price (Lakhs)\n",
            "45            4.00\n",
            "60          400.00\n",
            "7             3.00\n",
            "51            3.72\n",
            "66           90.00\n",
            "27            3.80\n",
            "71            4.00\n",
            "54          120.00\n",
            "130          31.44\n",
            "8             6.10\n",
            "76            5.15\n",
            "16            9.35\n",
            "132          50.56\n",
            "129          49.01\n",
            "131          23.00\n",
            "103           4.17\n",
            "110         100.00\n",
            "85           30.00\n",
            "33            4.90\n",
            "56          106.00\n",
            "94           88.00\n",
            "22            8.24\n",
            "144         605.00\n",
            "24            8.10\n",
            "2             4.00\n",
            "118          50.00\n",
            "26            6.54\n",
            "128          21.32\n",
            "18            2.87\n",
            "10            2.30\n",
            "101           2.58\n",
            "43            2.33\n",
            "105         111.00\n",
            "113         100.00\n",
            "50            2.12\n",
            "86           20.04\n",
            "61          200.00\n",
            "112         100.00\n",
            "93           50.00\n",
            "59          300.00\n",
            "44            1.67\n",
            "30            4.10\n",
            "119          70.00\n"
          ]
        }
      ],
      "source": [
        "print (x_test , y_test)"
      ]
    },
    {
      "cell_type": "code",
      "execution_count": 107,
      "metadata": {
        "colab": {
          "base_uri": "https://localhost:8080/"
        },
        "id": "c8S01xUE5CVN",
        "outputId": "b552411d-3994-461a-d69a-767a0e54524e"
      },
      "outputs": [
        {
          "output_type": "stream",
          "name": "stdout",
          "text": [
            "[ 55.6         52.455       10.62         3.605       47.50333333\n",
            "  10.77        27.35        82.5         55.6         57.33333333\n",
            "  12.93        82.5         82.5         69.23333333  15.5975\n",
            "  48.          75.          27.35        48.         220.\n",
            "  15.5975      41.3         69.23333333  41.3          3.\n",
            "  15.5975       6.395       42.06666667  55.6         32.49\n",
            "  69.23333333  10.77        40.33        55.6          3.605\n",
            "  10.62        52.455       55.6         27.35        47.50333333\n",
            "  55.6          4.5         15.5975    ]\n",
            "R-Square Error associated with Decision Tree Regression is: 0.026045402038831766\n"
          ]
        }
      ],
      "source": [
        "#Predicted Price from test dataset w.r.t Decision Tree Regression\n",
        "y_predict_dtr = DtReg.predict((x_test))\n",
        "\n",
        "\n",
        "print (y_predict_dtr)\n",
        "\n",
        "\n",
        "#Model Evaluation using R-Square for Decision Tree Regression\n",
        "from sklearn import metrics\n",
        "r_square = metrics.r2_score(y_test, y_predict_dtr)\n",
        "print('R-Square Error associated with Decision Tree Regression is:', r_square)"
      ]
    },
    {
      "cell_type": "code",
      "execution_count": 108,
      "metadata": {
        "colab": {
          "base_uri": "https://localhost:8080/",
          "height": 301
        },
        "id": "dorR-GnX5J80",
        "outputId": "e1ca4448-d578-45b8-bf49-a3b51779d572"
      },
      "outputs": [
        {
          "output_type": "display_data",
          "data": {
            "image/png": "[encoded data removed]",
            "text/plain": [
              "<Figure size 432x288 with 1 Axes>"
            ]
          },
          "metadata": {
            "needs_background": "light"
          }
        }
      ],
      "source": [
        "#Plotting a graph establishing the relation of price wrt Kms_driven\n",
        "x = x_test\n",
        "y= y_predict_dtr\n",
        "  \n",
        "ax = plt.axes()  \n",
        "ax.set_facecolor(\"#cf97cf\")  \n",
        "  \n",
        "plt.scatter(x, y, color ='r', s = 10)\n",
        "plt.xlabel('Kms_driven')\n",
        "plt.ylabel('Price (Lakhs)')\n",
        "plt.title('Price of a car wrt Kms_driven', fontsize = 20)\n",
        "  \n",
        "plt.show()"
      ]
    },
    {
      "cell_type": "markdown",
      "metadata": {
        "id": "vkBeHN7-59Os"
      },
      "source": [
        "Case 5: Year of Production"
      ]
    },
    {
      "cell_type": "code",
      "execution_count": 109,
      "metadata": {
        "id": "eeYZR_gZ50fe"
      },
      "outputs": [],
      "source": [
        "#Assigning the predictor variable and target variable \n",
        "x = df[['Year']]\n",
        "y = df[['Price (Lakhs)']]"
      ]
    },
    {
      "cell_type": "code",
      "execution_count": 110,
      "metadata": {
        "id": "qQBKisfF57Y6"
      },
      "outputs": [],
      "source": [
        "#Split the Dataset into Training and Test Dataset\n",
        "from sklearn.model_selection import train_test_split\n",
        "x_train, x_test, y_train, y_test = train_test_split(x, y, test_size=0.3, random_state=0)"
      ]
    },
    {
      "cell_type": "code",
      "execution_count": 111,
      "metadata": {
        "colab": {
          "base_uri": "https://localhost:8080/"
        },
        "id": "uQXa7ySy6Llh",
        "outputId": "a01cc3fe-c401-4f63-fb2a-dae85fde35af"
      },
      "outputs": [
        {
          "output_type": "execute_result",
          "data": {
            "text/plain": [
              "DecisionTreeRegressor(random_state=0)"
            ]
          },
          "metadata": {},
          "execution_count": 111
        }
      ],
      "source": [
        "#Import the Decision Tree Regressor \n",
        "from sklearn.tree import DecisionTreeRegressor  \n",
        "  \n",
        "#Create a decision tree regressor object  from DecisionTreeRegressor class\n",
        "DtReg = DecisionTreeRegressor(random_state = 0)  \n",
        "  \n",
        "#Fit the decision tree regressor with training data represented by x_train and y_train\n",
        "DtReg.fit(x_train, y_train)"
      ]
    },
    {
      "cell_type": "code",
      "execution_count": 112,
      "metadata": {
        "colab": {
          "base_uri": "https://localhost:8080/"
        },
        "id": "rHluDE-U6QuJ",
        "outputId": "2f062b2f-8ef1-4806-8318-d02a5a726587"
      },
      "outputs": [
        {
          "output_type": "stream",
          "name": "stdout",
          "text": [
            "     Year\n",
            "78   2015\n",
            "139  2020\n",
            "68   2020\n",
            "98   2012\n",
            "87   2020\n",
            "..    ...\n",
            "9    2015\n",
            "108  2019\n",
            "67   2015\n",
            "124  2020\n",
            "47   2017\n",
            "\n",
            "[98 rows x 1 columns]      Price (Lakhs)\n",
            "78           10.00\n",
            "139         111.00\n",
            "68            8.09\n",
            "98            3.17\n",
            "87           50.00\n",
            "..             ...\n",
            "9             5.00\n",
            "108          75.00\n",
            "67           40.33\n",
            "124          32.00\n",
            "47            5.93\n",
            "\n",
            "[98 rows x 1 columns]\n"
          ]
        }
      ],
      "source": [
        "print (x_train , y_train)"
      ]
    },
    {
      "cell_type": "code",
      "execution_count": 113,
      "metadata": {
        "colab": {
          "base_uri": "https://localhost:8080/"
        },
        "id": "_rMcjjKr6RfU",
        "outputId": "d050fbee-0554-4682-9e4b-7fbcb189135d"
      },
      "outputs": [
        {
          "output_type": "stream",
          "name": "stdout",
          "text": [
            "     Year\n",
            "45   2018\n",
            "60   2018\n",
            "7    2016\n",
            "51   2017\n",
            "66   2018\n",
            "27   2015\n",
            "71   2017\n",
            "54   2016\n",
            "130  2017\n",
            "8    2015\n",
            "76   2013\n",
            "16   2012\n",
            "132  2018\n",
            "129  2016\n",
            "131  2014\n",
            "103  2015\n",
            "110  2020\n",
            "85   2019\n",
            "33   2005\n",
            "56   2017\n",
            "94   2014\n",
            "22   2015\n",
            "144  2018\n",
            "24   2013\n",
            "2    2018\n",
            "118  2015\n",
            "26   2012\n",
            "128  2015\n",
            "18   2006\n",
            "10   2016\n",
            "101  2014\n",
            "43   2014\n",
            "105  2017\n",
            "113  2015\n",
            "50   2009\n",
            "86   2020\n",
            "61   2016\n",
            "112  2018\n",
            "93   2020\n",
            "59   2017\n",
            "44   2015\n",
            "30   2008\n",
            "119  2018      Price (Lakhs)\n",
            "45            4.00\n",
            "60          400.00\n",
            "7             3.00\n",
            "51            3.72\n",
            "66           90.00\n",
            "27            3.80\n",
            "71            4.00\n",
            "54          120.00\n",
            "130          31.44\n",
            "8             6.10\n",
            "76            5.15\n",
            "16            9.35\n",
            "132          50.56\n",
            "129          49.01\n",
            "131          23.00\n",
            "103           4.17\n",
            "110         100.00\n",
            "85           30.00\n",
            "33            4.90\n",
            "56          106.00\n",
            "94           88.00\n",
            "22            8.24\n",
            "144         605.00\n",
            "24            8.10\n",
            "2             4.00\n",
            "118          50.00\n",
            "26            6.54\n",
            "128          21.32\n",
            "18            2.87\n",
            "10            2.30\n",
            "101           2.58\n",
            "43            2.33\n",
            "105         111.00\n",
            "113         100.00\n",
            "50            2.12\n",
            "86           20.04\n",
            "61          200.00\n",
            "112         100.00\n",
            "93           50.00\n",
            "59          300.00\n",
            "44            1.67\n",
            "30            4.10\n",
            "119          70.00\n"
          ]
        }
      ],
      "source": [
        "print (x_test , y_test)"
      ]
    },
    {
      "cell_type": "code",
      "execution_count": 114,
      "metadata": {
        "colab": {
          "base_uri": "https://localhost:8080/"
        },
        "id": "q-AmjQ6c6VZ0",
        "outputId": "d11f61b2-5c03-448b-dc9e-bda4b205122b"
      },
      "outputs": [
        {
          "output_type": "stream",
          "name": "stdout",
          "text": [
            "[ 54.56090909  54.56090909  58.25857143 109.96555556  54.56090909\n",
            "  69.88777778 109.96555556  58.25857143 109.96555556  69.88777778\n",
            "  27.89111111  17.42166667  54.56090909  58.25857143  54.24375\n",
            "  69.88777778  54.14363636  96.74         0.8        109.96555556\n",
            "  54.24375     69.88777778  54.56090909  27.89111111  54.56090909\n",
            "  69.88777778  17.42166667  69.88777778   0.8         58.25857143\n",
            "  54.24375     54.24375    109.96555556  69.88777778   3.90666667\n",
            "  54.14363636  58.25857143  54.56090909  54.14363636 109.96555556\n",
            "  69.88777778   5.2         54.56090909]\n",
            "R-Square Error associated with Decision Tree Regression is: 0.013648697045410718\n"
          ]
        }
      ],
      "source": [
        "#Predicted Price from test dataset w.r.t Decision Tree Regression\n",
        "y_predict_dtr = DtReg.predict((x_test))\n",
        "\n",
        "\n",
        "print (y_predict_dtr)\n",
        "\n",
        "\n",
        "#Model Evaluation using R-Square for Decision Tree Regression\n",
        "from sklearn import metrics\n",
        "r_square = metrics.r2_score(y_test, y_predict_dtr)\n",
        "print('R-Square Error associated with Decision Tree Regression is:', r_square)"
      ]
    },
    {
      "cell_type": "code",
      "execution_count": 115,
      "metadata": {
        "colab": {
          "base_uri": "https://localhost:8080/",
          "height": 300
        },
        "id": "36DwXC8x6ZHs",
        "outputId": "2ef4cfc7-aea3-49b1-d96a-7241401e75ca"
      },
      "outputs": [
        {
          "output_type": "display_data",
          "data": {
            "image/png": "[encoded data removed]",
            "text/plain": [
              "<Figure size 432x288 with 1 Axes>"
            ]
          },
          "metadata": {
            "needs_background": "light"
          }
        }
      ],
      "source": [
        "#Plotting a graph establishing the relation of price wrt year of production \n",
        "x = x_test\n",
        "y= y_predict_dtr\n",
        "  \n",
        "ax = plt.axes()  \n",
        "ax.set_facecolor(\"#cf97cf\")  \n",
        "  \n",
        "plt.scatter(x, y, color ='r', s = 10)\n",
        "plt.xlabel('Year')\n",
        "plt.ylabel('Price (Lakhs)')\n",
        "plt.title('Price of a car wrt Year of Production ', fontsize = 20)\n",
        "  \n",
        "plt.show()"
      ]
    },
    {
      "cell_type": "markdown",
      "metadata": {
        "id": "mrXqM8HZ6vqz"
      },
      "source": [
        "Case 6 : Mileage"
      ]
    },
    {
      "cell_type": "code",
      "execution_count": 116,
      "metadata": {
        "id": "7Q6fmBvD7IHb"
      },
      "outputs": [],
      "source": [
        "#Assigning the predictor variable and target variable \n",
        "x = df[['Mileage ']]\n",
        "y = df[['Price (Lakhs)']]"
      ]
    },
    {
      "cell_type": "code",
      "execution_count": 117,
      "metadata": {
        "id": "0EYn7hvL8cI8"
      },
      "outputs": [],
      "source": [
        "#Split the Dataset into Training and Test Dataset\n",
        "from sklearn.model_selection import train_test_split\n",
        "x_train, x_test, y_train, y_test = train_test_split(x, y, test_size=0.3, random_state=0)"
      ]
    },
    {
      "cell_type": "code",
      "execution_count": 118,
      "metadata": {
        "colab": {
          "base_uri": "https://localhost:8080/"
        },
        "id": "EY2uwx9R9BHc",
        "outputId": "b8bbf211-058c-4363-e6ee-befd4fa3d62a"
      },
      "outputs": [
        {
          "output_type": "execute_result",
          "data": {
            "text/plain": [
              "DecisionTreeRegressor(random_state=0)"
            ]
          },
          "metadata": {},
          "execution_count": 118
        }
      ],
      "source": [
        "#Import the Decision Tree Regressor \n",
        "from sklearn.tree import DecisionTreeRegressor  \n",
        "  \n",
        "#Create a decision tree regressor object  from DecisionTreeRegressor class\n",
        "DtReg = DecisionTreeRegressor(random_state = 0)  \n",
        "  \n",
        "#Fit the decision tree regressor with training data represented by x_train and y_train\n",
        "DtReg.fit(x_train, y_train)"
      ]
    },
    {
      "cell_type": "code",
      "execution_count": 119,
      "metadata": {
        "colab": {
          "base_uri": "https://localhost:8080/"
        },
        "id": "pi0PoByA9Fq0",
        "outputId": "3f5a3719-4205-49c8-ef63-12a75c9557ee"
      },
      "outputs": [
        {
          "output_type": "stream",
          "name": "stdout",
          "text": [
            "     Mileage \n",
            "78      14.00\n",
            "139      6.40\n",
            "68      16.00\n",
            "98      18.00\n",
            "87      12.66\n",
            "..        ...\n",
            "9       20.04\n",
            "108     12.00\n",
            "67      10.60\n",
            "124     11.00\n",
            "47      16.50\n",
            "\n",
            "[98 rows x 1 columns]      Price (Lakhs)\n",
            "78           10.00\n",
            "139         111.00\n",
            "68            8.09\n",
            "98            3.17\n",
            "87           50.00\n",
            "..             ...\n",
            "9             5.00\n",
            "108          75.00\n",
            "67           40.33\n",
            "124          32.00\n",
            "47            5.93\n",
            "\n",
            "[98 rows x 1 columns]\n"
          ]
        }
      ],
      "source": [
        "print (x_train , y_train)"
      ]
    },
    {
      "cell_type": "code",
      "execution_count": 120,
      "metadata": {
        "colab": {
          "base_uri": "https://localhost:8080/"
        },
        "id": "Ubn9VLjw9Kdk",
        "outputId": "e8faf771-7a9b-4c51-8678-601f3042e0c6"
      },
      "outputs": [
        {
          "output_type": "stream",
          "name": "stdout",
          "text": [
            "     Mileage \n",
            "45      25.40\n",
            "60      11.00\n",
            "7       20.89\n",
            "51      19.00\n",
            "66       9.32\n",
            "27      20.00\n",
            "71      21.00\n",
            "54       9.00\n",
            "130     15.00\n",
            "8       20.04\n",
            "76      22.00\n",
            "16      17.00\n",
            "132     13.00\n",
            "129     14.00\n",
            "131     15.00\n",
            "103     22.00\n",
            "110      8.70\n",
            "85      13.12\n",
            "33      23.70\n",
            "56       8.93\n",
            "94      10.00\n",
            "22      16.55\n",
            "144      6.71\n",
            "24      16.70\n",
            "2       20.50\n",
            "118     11.00\n",
            "26      15.00\n",
            "128     18.00\n",
            "18      20.30\n",
            "10      19.56\n",
            "101     16.00\n",
            "43      20.30\n",
            "105      9.00\n",
            "113      8.00\n",
            "50      19.00\n",
            "86      12.66\n",
            "61      11.00\n",
            "112      8.00\n",
            "93      20.00\n",
            "59      18.00\n",
            "44      25.40\n",
            "30      24.70\n",
            "119     11.00      Price (Lakhs)\n",
            "45            4.00\n",
            "60          400.00\n",
            "7             3.00\n",
            "51            3.72\n",
            "66           90.00\n",
            "27            3.80\n",
            "71            4.00\n",
            "54          120.00\n",
            "130          31.44\n",
            "8             6.10\n",
            "76            5.15\n",
            "16            9.35\n",
            "132          50.56\n",
            "129          49.01\n",
            "131          23.00\n",
            "103           4.17\n",
            "110         100.00\n",
            "85           30.00\n",
            "33            4.90\n",
            "56          106.00\n",
            "94           88.00\n",
            "22            8.24\n",
            "144         605.00\n",
            "24            8.10\n",
            "2             4.00\n",
            "118          50.00\n",
            "26            6.54\n",
            "128          21.32\n",
            "18            2.87\n",
            "10            2.30\n",
            "101           2.58\n",
            "43            2.33\n",
            "105         111.00\n",
            "113         100.00\n",
            "50            2.12\n",
            "86           20.04\n",
            "61          200.00\n",
            "112         100.00\n",
            "93           50.00\n",
            "59          300.00\n",
            "44            1.67\n",
            "30            4.10\n",
            "119          70.00\n"
          ]
        }
      ],
      "source": [
        "print (x_test , y_test)"
      ]
    },
    {
      "cell_type": "code",
      "execution_count": 121,
      "metadata": {
        "colab": {
          "base_uri": "https://localhost:8080/"
        },
        "id": "riybXpO69Nij",
        "outputId": "efe0ad0f-64fd-4049-963f-58a494dd4dee"
      },
      "outputs": [
        {
          "output_type": "stream",
          "name": "stdout",
          "text": [
            "[  3.66        41.3          2.5          4.55       133.\n",
            "  21.145        5.61        65.          12.625        5.\n",
            "   8.17         6.7         18.74        18.09666667  12.625\n",
            "   8.17        76.          65.           3.46       100.\n",
            "  65.           5.93       189.           4.7          3.\n",
            "  41.3         12.625       63.35666667   8.2          1.2\n",
            "   5.49666667   8.2         65.         102.           4.55\n",
            "  50.          41.3        102.          21.145       63.35666667\n",
            "   3.66         4.5         41.3       ]\n",
            "R-Square Error associated with Decision Tree Regression is: 0.3051337479872578\n"
          ]
        }
      ],
      "source": [
        "#Predicted Price from test dataset w.r.t Decision Tree Regression\n",
        "y_predict_dtr = DtReg.predict((x_test))\n",
        "\n",
        "\n",
        "print (y_predict_dtr)\n",
        "\n",
        "\n",
        "#Model Evaluation using R-Square for Decision Tree Regression\n",
        "from sklearn import metrics\n",
        "r_square = metrics.r2_score(y_test, y_predict_dtr)\n",
        "print('R-Square Error associated with Decision Tree Regression is:', r_square)"
      ]
    },
    {
      "cell_type": "code",
      "execution_count": 122,
      "metadata": {
        "colab": {
          "base_uri": "https://localhost:8080/",
          "height": 300
        },
        "id": "Cy4XxfSJ9R7j",
        "outputId": "e8da1dd9-ffe6-438d-9cde-2f91db344145"
      },
      "outputs": [
        {
          "output_type": "display_data",
          "data": {
            "image/png": "[encoded data removed]",
            "text/plain": [
              "<Figure size 432x288 with 1 Axes>"
            ]
          },
          "metadata": {
            "needs_background": "light"
          }
        }
      ],
      "source": [
        "#Plotting a graph establishing the relation of price wrt Mileage \n",
        "x = x_test\n",
        "y= y_predict_dtr\n",
        "  \n",
        "ax = plt.axes()  \n",
        "ax.set_facecolor(\"#cf97cf\")  \n",
        "  \n",
        "plt.scatter(x, y, color ='r', s = 10)\n",
        "plt.xlabel('Mileage ')\n",
        "plt.ylabel('Price (Lakhs)')\n",
        "plt.title('Price of a car wrt Mileage  ', fontsize = 20)\n",
        "  \n",
        "plt.show()"
      ]
    },
    {
      "cell_type": "markdown",
      "metadata": {
        "id": "Vqlym1upBdSN"
      },
      "source": [
        "#3D Plotting"
      ]
    },
    {
      "cell_type": "markdown",
      "source": [
        "###3d plotting with reference to orginal dataset"
      ],
      "metadata": {
        "id": "ECOul6zpkruL"
      }
    },
    {
      "cell_type": "code",
      "execution_count": 123,
      "metadata": {
        "colab": {
          "base_uri": "https://localhost:8080/",
          "height": 248
        },
        "id": "0lQeeeNTkdTT",
        "outputId": "b6f8d4b6-4840-4704-9821-13ca58937bab"
      },
      "outputs": [
        {
          "output_type": "display_data",
          "data": {
            "image/png": "[encoded data removed]",
            "text/plain": [
              "<Figure size 432x288 with 1 Axes>"
            ]
          },
          "metadata": {
            "needs_background": "light"
          }
        }
      ],
      "source": [
        "#3d plotting of Kms Driven and Mileage wrt Price\n",
        "fig = plt.figure()\n",
        "ax1 = fig.add_subplot(111 , projection = '3d')\n",
        "\n",
        "x = df[['Kms_driven']]\n",
        "y = df[['Mileage ']]\n",
        "z = df[['Price (Lakhs)']]\n",
        "\n",
        "ax1.scatter (x,y,z)\n",
        "  \n",
        "ax1.set_xlabel ('Kms Driven')\n",
        "ax1.set_ylabel ('Mileage')\n",
        "ax1.set_zlabel ('Price')\n",
        "  \n",
        "plt.show()"
      ]
    },
    {
      "cell_type": "code",
      "source": [
        "#3d plotting of Year and Buyers wrt Price\n",
        "fig = plt.figure()\n",
        "ax1 = fig.add_subplot(111 , projection = '3d')\n",
        "\n",
        "x = df[['Year']]\n",
        "y = df[['Buyers']]\n",
        "z = df[['Price (Lakhs)']]\n",
        "\n",
        "ax1.scatter (x,y,z)\n",
        "  \n",
        "ax1.set_xlabel ('Year')\n",
        "ax1.set_ylabel ('Buyers')\n",
        "ax1.set_zlabel ('Price')\n",
        "  \n",
        "plt.show()"
      ],
      "metadata": {
        "colab": {
          "base_uri": "https://localhost:8080/",
          "height": 248
        },
        "id": "Dwenlevwzswz",
        "outputId": "a634d525-d778-4389-ca02-cd7eb681798e"
      },
      "execution_count": 124,
      "outputs": [
        {
          "output_type": "display_data",
          "data": {
            "image/png": "[encoded data removed]",
            "text/plain": [
              "<Figure size 432x288 with 1 Axes>"
            ]
          },
          "metadata": {
            "needs_background": "light"
          }
        }
      ]
    },
    {
      "cell_type": "code",
      "source": [
        "#3d plotting of Horsepower and Engine wrt Price\n",
        "fig = plt.figure()\n",
        "ax1 = fig.add_subplot(111 , projection = '3d')\n",
        "\n",
        "x = df[['Horsepower (kw)']]\n",
        "y = df[['Engine']]\n",
        "z = df[['Price (Lakhs)']]\n",
        "\n",
        "ax1.scatter (x,y,z)\n",
        "  \n",
        "ax1.set_xlabel ('Horsepower (kw)')\n",
        "ax1.set_ylabel ('Engine')\n",
        "ax1.set_zlabel ('Price')\n",
        "  \n",
        "plt.show()"
      ],
      "metadata": {
        "colab": {
          "base_uri": "https://localhost:8080/",
          "height": 248
        },
        "id": "D9vecfLIpoiE",
        "outputId": "7b94ada2-94e0-485a-9257-d0f0e92b3a7d"
      },
      "execution_count": 125,
      "outputs": [
        {
          "output_type": "display_data",
          "data": {
            "image/png": "[encoded data removed]",
            "text/plain": [
              "<Figure size 432x288 with 1 Axes>"
            ]
          },
          "metadata": {
            "needs_background": "light"
          }
        }
      ]
    },
    {
      "cell_type": "markdown",
      "source": [
        "###3d Plotting using test data "
      ],
      "metadata": {
        "id": "q2xX3ZW5lVlf"
      }
    },
    {
      "cell_type": "markdown",
      "source": [
        "Case 1 : Kms Driven and Mileage"
      ],
      "metadata": {
        "id": "CeSjZv2ClrF0"
      }
    },
    {
      "cell_type": "code",
      "source": [
        "#Assigning the predictor variable and target variable \n",
        "x = df[['Kms_driven']]\n",
        "y = df[['Mileage ']]\n",
        "z = df[['Price (Lakhs)']]\n"
      ],
      "metadata": {
        "id": "8sBPCGb5faNs"
      },
      "execution_count": 126,
      "outputs": []
    },
    {
      "cell_type": "code",
      "source": [
        "#splitting the dataset into test and train set\n",
        "x_train, x_test, z_train, z_test = train_test_split(x, z, test_size = 0.3, random_state=2)\n",
        "y_train, y_test, z_train, z_test = train_test_split(y, z, test_size = 0.3, random_state=2)"
      ],
      "metadata": {
        "id": "8bgm6RmUffn4"
      },
      "execution_count": 127,
      "outputs": []
    },
    {
      "cell_type": "code",
      "source": [
        "#3d plotting of Kms Driven and Mileage wrt Price\n",
        "fig = plt.figure()\n",
        "ax1 = fig.add_subplot(111 , projection = '3d')\n",
        "\n",
        "x = x_test\n",
        "y = y_test\n",
        "z = z_test\n",
        "\n",
        "ax1.scatter (x,y,z)\n",
        "  \n",
        "ax1.set_xlabel ('Kms Driven')\n",
        "ax1.set_ylabel ('Mileage')\n",
        "ax1.set_zlabel ('Price')\n",
        "  \n",
        "plt.show()"
      ],
      "metadata": {
        "colab": {
          "base_uri": "https://localhost:8080/",
          "height": 248
        },
        "id": "O3uq3j9Afp4j",
        "outputId": "6d955a78-12fb-4198-a0a3-459d89a5a0cd"
      },
      "execution_count": 128,
      "outputs": [
        {
          "output_type": "display_data",
          "data": {
            "image/png": "[encoded data removed]",
            "text/plain": [
              "<Figure size 432x288 with 1 Axes>"
            ]
          },
          "metadata": {
            "needs_background": "light"
          }
        }
      ]
    },
    {
      "cell_type": "markdown",
      "source": [
        "Case 2 : Year and Buyers"
      ],
      "metadata": {
        "id": "RV8aP72fl057"
      }
    },
    {
      "cell_type": "code",
      "source": [
        "#Assigning the predictor variable and target variable \n",
        "x = df[['Year']]\n",
        "y = df[['Buyers']]\n",
        "z = df[['Price (Lakhs)']]\n"
      ],
      "metadata": {
        "id": "8_EJfIrBlhpm"
      },
      "execution_count": 129,
      "outputs": []
    },
    {
      "cell_type": "code",
      "source": [
        "#splitting the dataset into test and train set\n",
        "x_train, x_test, z_train, z_test = train_test_split(x, z, test_size = 0.3, random_state=2)\n",
        "y_train, y_test, z_train, z_test = train_test_split(y, z, test_size = 0.3, random_state=2)"
      ],
      "metadata": {
        "id": "cPOCPdrfl9eV"
      },
      "execution_count": 130,
      "outputs": []
    },
    {
      "cell_type": "code",
      "source": [
        "#3d plotting of Year and Buyers wrt Price\n",
        "fig = plt.figure()\n",
        "ax1 = fig.add_subplot(111 , projection = '3d')\n",
        "\n",
        "x = x_test\n",
        "y = y_test\n",
        "z = z_test\n",
        "\n",
        "ax1.scatter (x,y,z)\n",
        "  \n",
        "ax1.set_xlabel ('Year')\n",
        "ax1.set_ylabel ('Buyers')\n",
        "ax1.set_zlabel ('Price')\n",
        "  \n",
        "plt.show()"
      ],
      "metadata": {
        "colab": {
          "base_uri": "https://localhost:8080/",
          "height": 248
        },
        "id": "_me7CbfKmBuE",
        "outputId": "524881f6-d1e7-43e7-8432-efdd6f880810"
      },
      "execution_count": 131,
      "outputs": [
        {
          "output_type": "display_data",
          "data": {
            "image/png": "[encoded data removed]",
            "text/plain": [
              "<Figure size 432x288 with 1 Axes>"
            ]
          },
          "metadata": {
            "needs_background": "light"
          }
        }
      ]
    },
    {
      "cell_type": "markdown",
      "source": [
        "Case 3 : Horsepower and Engine "
      ],
      "metadata": {
        "id": "yyhVYf-SmKaL"
      }
    },
    {
      "cell_type": "code",
      "source": [
        "#Assigning the predictor variable and target variable \n",
        "x = df[['Horsepower (kw)']]\n",
        "y = df[['Engine']]\n",
        "z = df[['Price (Lakhs)']]\n"
      ],
      "metadata": {
        "id": "H9XB1DPbmI4q"
      },
      "execution_count": 132,
      "outputs": []
    },
    {
      "cell_type": "code",
      "source": [
        "#splitting the dataset into test and train set\n",
        "x_train, x_test, z_train, z_test = train_test_split(x, z, test_size = 0.3, random_state=2)\n",
        "y_train, y_test, z_train, z_test = train_test_split(y, z, test_size = 0.3, random_state=2)"
      ],
      "metadata": {
        "id": "UZ5aGIhsmVhA"
      },
      "execution_count": 133,
      "outputs": []
    },
    {
      "cell_type": "code",
      "source": [
        "#3d plotting of Horsepower and Engine wrt Price\n",
        "fig = plt.figure()\n",
        "ax1 = fig.add_subplot(111 , projection = '3d')\n",
        "\n",
        "x = x_test\n",
        "y = y_test\n",
        "z = z_test\n",
        "\n",
        "ax1.scatter (x,y,z)\n",
        "  \n",
        "ax1.set_xlabel ('Horsepower')\n",
        "ax1.set_ylabel ('Engine')\n",
        "ax1.set_zlabel ('Price')\n",
        "  \n",
        "plt.show()"
      ],
      "metadata": {
        "colab": {
          "base_uri": "https://localhost:8080/",
          "height": 248
        },
        "id": "xdFd-MNtmXd1",
        "outputId": "6b24b482-0581-4d25-9a56-62ff65262fa1"
      },
      "execution_count": 134,
      "outputs": [
        {
          "output_type": "display_data",
          "data": {
            "image/png": "[encoded data removed]",
            "text/plain": [
              "<Figure size 432x288 with 1 Axes>"
            ]
          },
          "metadata": {
            "needs_background": "light"
          }
        }
      ]
    },
    {
      "cell_type": "markdown",
      "source": [
        "##As we can see that the case3 plotting shows linear trend , we will now perform multivariate linear regression and decision tree and then compare the two results."
      ],
      "metadata": {
        "id": "EYEazTnrdOOc"
      }
    },
    {
      "cell_type": "markdown",
      "source": [
        "Case 1 : Multivariate Linear Regression"
      ],
      "metadata": {
        "id": "_x_ZeL6aePmb"
      }
    },
    {
      "cell_type": "code",
      "source": [
        "#Assigning the predictor variable and target variable \n",
        "x = df[['Horsepower (kw)' , 'Engine']]\n",
        "y = df[['Price (Lakhs)']]"
      ],
      "metadata": {
        "id": "5dCAk0m1dwhN"
      },
      "execution_count": 135,
      "outputs": []
    },
    {
      "cell_type": "code",
      "source": [
        "#splitting the dataset into test and train set\n",
        "x_train, x_test, y_train, y_test = train_test_split(x, y, test_size = 0.3, random_state=2)"
      ],
      "metadata": {
        "id": "OWHzSCiZelmF"
      },
      "execution_count": 136,
      "outputs": []
    },
    {
      "cell_type": "code",
      "source": [
        "#Using the linear regression function the predict the value\n",
        "clf = LinearRegression()\n",
        "clf.fit(x_train , y_train)\n",
        "clf.score(x_test , y_test)"
      ],
      "metadata": {
        "colab": {
          "base_uri": "https://localhost:8080/"
        },
        "id": "5uUX4Vr2id3R",
        "outputId": "6056526d-0eb7-4331-8359-6d1308f24490"
      },
      "execution_count": 137,
      "outputs": [
        {
          "output_type": "execute_result",
          "data": {
            "text/plain": [
              "0.35592119049116866"
            ]
          },
          "metadata": {},
          "execution_count": 137
        }
      ]
    },
    {
      "cell_type": "code",
      "source": [
        "regr = linear_model.LinearRegression()\n",
        "regr.fit(x_test, y_test)"
      ],
      "metadata": {
        "colab": {
          "base_uri": "https://localhost:8080/"
        },
        "id": "WyiXId27mxVH",
        "outputId": "6dd3615d-905b-4f10-fe9d-bb839b06a9c8"
      },
      "execution_count": 138,
      "outputs": [
        {
          "output_type": "execute_result",
          "data": {
            "text/plain": [
              "LinearRegression()"
            ]
          },
          "metadata": {},
          "execution_count": 138
        }
      ]
    },
    {
      "cell_type": "code",
      "source": [
        "print (x_test , y_test)"
      ],
      "metadata": {
        "colab": {
          "base_uri": "https://localhost:8080/"
        },
        "id": "lyaZ0ZIonPw-",
        "outputId": "0f024e3e-47a5-4504-de83-0a3aad8aaf40"
      },
      "execution_count": 139,
      "outputs": [
        {
          "output_type": "stream",
          "name": "stdout",
          "text": [
            "     Horsepower (kw)  Engine\n",
            "138              626    5204\n",
            "104               72    1499\n",
            "98                82    1498\n",
            "41                74    1197\n",
            "3                 73    1462\n",
            "24                65    1493\n",
            "48                45     799\n",
            "127              205    2993\n",
            "2                 46     998\n",
            "5                 61    1197\n",
            "71                74    1197\n",
            "124              327    2998\n",
            "86               147    1997\n",
            "23                65    1493\n",
            "94               358    2981\n",
            "55               454    3855\n",
            "45                62    1197\n",
            "12                72    1497\n",
            "59               985    3990\n",
            "87               147    1997\n",
            "122              376    4395\n",
            "139              522    5204\n",
            "110              383    3996\n",
            "126              205    2993\n",
            "117              290    2894\n",
            "128              166    1998\n",
            "25                95    2179\n",
            "44                62    1197\n",
            "141              651    6496\n",
            "88               322    5000\n",
            "65               286    2995\n",
            "14                62    1199\n",
            "11                72    1497\n",
            "28               113    2189\n",
            "0                 32     796\n",
            "119              220    2994\n",
            "36               102    1497\n",
            "64               250    1997\n",
            "20               123    1956\n",
            "99                82    1498\n",
            "121              376    4395\n",
            "13                88    1199\n",
            "30                64    1498      Price (Lakhs)\n",
            "138         122.00\n",
            "104           8.17\n",
            "98            3.17\n",
            "41            3.66\n",
            "3             5.10\n",
            "24            8.10\n",
            "48            1.56\n",
            "127          40.00\n",
            "2             4.00\n",
            "5             1.58\n",
            "71            4.00\n",
            "124          32.00\n",
            "86           20.04\n",
            "23            4.70\n",
            "94           88.00\n",
            "55          100.00\n",
            "45            4.00\n",
            "12            3.40\n",
            "59          300.00\n",
            "87           50.00\n",
            "122          20.00\n",
            "139         111.00\n",
            "110         100.00\n",
            "126          70.00\n",
            "117          87.00\n",
            "128          21.32\n",
            "25            5.29\n",
            "44            1.67\n",
            "141         100.00\n",
            "88           78.00\n",
            "65          133.00\n",
            "14            3.12\n",
            "11            2.80\n",
            "28            7.50\n",
            "0             1.20\n",
            "119          70.00\n",
            "36            5.20\n",
            "64           65.00\n",
            "20            4.70\n",
            "99            7.30\n",
            "121          81.00\n",
            "13            5.02\n",
            "30            4.10\n"
          ]
        }
      ]
    },
    {
      "cell_type": "code",
      "source": [
        "#Predicted Price from test dataset w.r.t Linear Regression\n",
        "y_predict_lr = regr.predict((x_test))\n",
        "\n",
        "\n",
        "print (y_predict_lr)\n",
        "\n",
        "\n",
        "#Model Evaluation using R-Square for Linear Regression\n",
        "from sklearn import metrics\n",
        "r_square = metrics.r2_score(y_test, y_predict_lr)\n",
        "print('R-Square Error associated with Linear Regression is:', r_square)"
      ],
      "metadata": {
        "colab": {
          "base_uri": "https://localhost:8080/"
        },
        "id": "m7S-3-ZGijEB",
        "outputId": "8a32fa54-5c0a-4731-dffa-57513dee56ef"
      },
      "execution_count": 140,
      "outputs": [
        {
          "output_type": "stream",
          "name": "stdout",
          "text": [
            "[[146.31977924]\n",
            " [  7.11264966]\n",
            " [ 10.51493323]\n",
            " [ 11.74814226]\n",
            " [  7.93644603]\n",
            " [  4.81885349]\n",
            " [  7.13524385]\n",
            " [ 32.61011992]\n",
            " [  4.86630175]\n",
            " [  7.34220989]\n",
            " [ 11.74814226]\n",
            " [ 73.8925765 ]\n",
            " [ 26.0052879 ]\n",
            " [  4.81885349]\n",
            " [ 84.62181262]\n",
            " [105.7043124 ]\n",
            " [  7.68112777]\n",
            " [  7.13885931]\n",
            " [283.90055256]\n",
            " [ 26.0052879 ]\n",
            " [ 72.19211322]\n",
            " [111.07232029]\n",
            " [ 79.79336312]\n",
            " [ 32.61011992]\n",
            " [ 62.71551684]\n",
            " [ 32.4316227 ]\n",
            " [  5.99648046]\n",
            " [  7.68112777]\n",
            " [137.86129349]\n",
            " [ 45.96212947]\n",
            " [ 60.03625811]\n",
            " [  7.65491812]\n",
            " [  7.13885931]\n",
            " [ 11.96595396]\n",
            " [  2.76862596]\n",
            " [ 37.68078321]\n",
            " [ 17.30639555]\n",
            " [ 60.91382898]\n",
            " [ 18.4085567 ]\n",
            " [ 10.51493323]\n",
            " [ 72.19211322]\n",
            " [ 16.46678286]\n",
            " [  4.41441149]]\n",
            "R-Square Error associated with Linear Regression is: 0.8684308205411453\n"
          ]
        }
      ]
    },
    {
      "cell_type": "markdown",
      "source": [
        "Case 2 : Multivariate Decision Tree"
      ],
      "metadata": {
        "id": "nrOLYwwsit1M"
      }
    },
    {
      "cell_type": "code",
      "source": [
        "#Assigning the predictor variable and target variable \n",
        "x = df[['Horsepower (kw)' , 'Engine']]\n",
        "y = df[['Price (Lakhs)']]"
      ],
      "metadata": {
        "id": "iHmVpnoVi1Oh"
      },
      "execution_count": 141,
      "outputs": []
    },
    {
      "cell_type": "code",
      "source": [
        "#splitting the dataset into test and train set\n",
        "x_train, x_test, y_train, y_test = train_test_split(x, y, test_size = 0.3, random_state=2)"
      ],
      "metadata": {
        "id": "hxe8kRe5i3F3"
      },
      "execution_count": 142,
      "outputs": []
    },
    {
      "cell_type": "code",
      "source": [
        "#Import the Decision Tree Regressor \n",
        "from sklearn.tree import DecisionTreeRegressor  \n",
        "  \n",
        "#Create a decision tree regressor object  from DecisionTreeRegressor class\n",
        "DtReg = DecisionTreeRegressor(random_state = 0)  \n",
        "  \n",
        "#Fit the decision tree regressor with training data represented by x_train and y_train\n",
        "DtReg.fit(x_train, y_train)"
      ],
      "metadata": {
        "colab": {
          "base_uri": "https://localhost:8080/"
        },
        "id": "OSacpzs0i5JZ",
        "outputId": "2c12f644-fabd-41a5-e5f6-0316c92f6c4a"
      },
      "execution_count": 143,
      "outputs": [
        {
          "output_type": "execute_result",
          "data": {
            "text/plain": [
              "DecisionTreeRegressor(random_state=0)"
            ]
          },
          "metadata": {},
          "execution_count": 143
        }
      ]
    },
    {
      "cell_type": "code",
      "source": [
        "print ( x_train , y_train)"
      ],
      "metadata": {
        "colab": {
          "base_uri": "https://localhost:8080/"
        },
        "id": "LvnMR22si-BE",
        "outputId": "e2e73f7a-4b2d-4155-eeb9-314fcb91f360"
      },
      "execution_count": 144,
      "outputs": [
        {
          "output_type": "stream",
          "name": "stdout",
          "text": [
            "     Horsepower (kw)  Engine\n",
            "103               72    1499\n",
            "118              220    2994\n",
            "142              800    6500\n",
            "74                74    1197\n",
            "6                 60    1200\n",
            "..               ...     ...\n",
            "75                74    1197\n",
            "43                47    1086\n",
            "22               105    2184\n",
            "72               146    2199\n",
            "15                62    1199\n",
            "\n",
            "[98 rows x 2 columns]      Price (Lakhs)\n",
            "103           4.17\n",
            "118          50.00\n",
            "142         115.00\n",
            "74            4.72\n",
            "6             2.50\n",
            "..             ...\n",
            "75            7.80\n",
            "43            2.33\n",
            "22            8.24\n",
            "72            7.83\n",
            "15            3.80\n",
            "\n",
            "[98 rows x 1 columns]\n"
          ]
        }
      ]
    },
    {
      "cell_type": "code",
      "source": [
        "print ( x_test , y_test)"
      ],
      "metadata": {
        "colab": {
          "base_uri": "https://localhost:8080/"
        },
        "id": "4GGn7I_wjFup",
        "outputId": "2757f93e-15d4-446d-d67f-a70b2980d122"
      },
      "execution_count": 145,
      "outputs": [
        {
          "output_type": "stream",
          "name": "stdout",
          "text": [
            "     Horsepower (kw)  Engine\n",
            "138              626    5204\n",
            "104               72    1499\n",
            "98                82    1498\n",
            "41                74    1197\n",
            "3                 73    1462\n",
            "24                65    1493\n",
            "48                45     799\n",
            "127              205    2993\n",
            "2                 46     998\n",
            "5                 61    1197\n",
            "71                74    1197\n",
            "124              327    2998\n",
            "86               147    1997\n",
            "23                65    1493\n",
            "94               358    2981\n",
            "55               454    3855\n",
            "45                62    1197\n",
            "12                72    1497\n",
            "59               985    3990\n",
            "87               147    1997\n",
            "122              376    4395\n",
            "139              522    5204\n",
            "110              383    3996\n",
            "126              205    2993\n",
            "117              290    2894\n",
            "128              166    1998\n",
            "25                95    2179\n",
            "44                62    1197\n",
            "141              651    6496\n",
            "88               322    5000\n",
            "65               286    2995\n",
            "14                62    1199\n",
            "11                72    1497\n",
            "28               113    2189\n",
            "0                 32     796\n",
            "119              220    2994\n",
            "36               102    1497\n",
            "64               250    1997\n",
            "20               123    1956\n",
            "99                82    1498\n",
            "121              376    4395\n",
            "13                88    1199\n",
            "30                64    1498      Price (Lakhs)\n",
            "138         122.00\n",
            "104           8.17\n",
            "98            3.17\n",
            "41            3.66\n",
            "3             5.10\n",
            "24            8.10\n",
            "48            1.56\n",
            "127          40.00\n",
            "2             4.00\n",
            "5             1.58\n",
            "71            4.00\n",
            "124          32.00\n",
            "86           20.04\n",
            "23            4.70\n",
            "94           88.00\n",
            "55          100.00\n",
            "45            4.00\n",
            "12            3.40\n",
            "59          300.00\n",
            "87           50.00\n",
            "122          20.00\n",
            "139         111.00\n",
            "110         100.00\n",
            "126          70.00\n",
            "117          87.00\n",
            "128          21.32\n",
            "25            5.29\n",
            "44            1.67\n",
            "141         100.00\n",
            "88           78.00\n",
            "65          133.00\n",
            "14            3.12\n",
            "11            2.80\n",
            "28            7.50\n",
            "0             1.20\n",
            "119          70.00\n",
            "36            5.20\n",
            "64           65.00\n",
            "20            4.70\n",
            "99            7.30\n",
            "121          81.00\n",
            "13            5.02\n",
            "30            4.10\n"
          ]
        }
      ]
    },
    {
      "cell_type": "code",
      "source": [
        "#Predicted Price from test dataset w.r.t Decision Tree Regression\n",
        "y_predict_dtr = DtReg.predict((x_test))\n",
        "\n",
        "\n",
        "print (y_predict_dtr)\n",
        "\n",
        "\n",
        "#Model Evaluation using R-Square for Decision Tree Regression\n",
        "from sklearn import metrics\n",
        "r_square = metrics.r2_score(y_test, y_predict_dtr)\n",
        "print('R-Square Error associated with Decision Tree Regression is:', r_square)"
      ],
      "metadata": {
        "colab": {
          "base_uri": "https://localhost:8080/"
        },
        "id": "eHFTBswmjJvZ",
        "outputId": "0036aa62-b644-4296-ce80-6ae4b9cb4035"
      },
      "execution_count": 146,
      "outputs": [
        {
          "output_type": "stream",
          "name": "stdout",
          "text": [
            "[200.           4.17         6.45         5.74666667   4.\n",
            "   4.5          1.89        49.01         3.           2.3\n",
            "   5.74666667  50.6         30.           4.5         80.\n",
            " 106.           3.335        4.         350.          30.\n",
            " 100.         200.          76.          49.01        38.\n",
            "  40.33         6.54         3.335      190.          45.\n",
            "  90.           3.335        4.           3.32         1.89\n",
            "  50.           5.93        38.           8.68333333   6.45\n",
            " 100.           3.8          4.5       ]\n",
            "R-Square Error associated with Decision Tree Regression is: 0.7107876888797969\n"
          ]
        }
      ]
    },
    {
      "cell_type": "markdown",
      "source": [
        "##Comparing the predicted price of Linear Regression and Decision Tree"
      ],
      "metadata": {
        "id": "5JNqKP6WyFYy"
      }
    },
    {
      "cell_type": "code",
      "source": [
        "#Plotting a graph to compare the predicted prices  \n",
        "  \n",
        "ax = plt.axes()  \n",
        "ax.set_facecolor(\"#cf97cf\")  \n",
        "  \n",
        "plt.plot (y_predict_lr, color = 'r')\n",
        "plt.plot (y_predict_dtr, color = 'b')\n",
        "\n",
        "plt.xlabel('No.of Predictions')\n",
        "plt.ylabel('Price')\n",
        "plt.title('Comparison btw LR and DT', fontsize = 20)\n",
        "  \n",
        "plt.show()"
      ],
      "metadata": {
        "colab": {
          "base_uri": "https://localhost:8080/",
          "height": 300
        },
        "id": "rWskvZpvumax",
        "outputId": "7634dddb-9154-4142-ca57-a1d53d0f8f7d"
      },
      "execution_count": 147,
      "outputs": [
        {
          "output_type": "display_data",
          "data": {
            "image/png": "[encoded data removed]",
            "text/plain": [
              "<Figure size 432x288 with 1 Axes>"
            ]
          },
          "metadata": {
            "needs_background": "light"
          }
        }
      ]
    },
    {
      "cell_type": "markdown",
      "source": [
        "###Conclusion : After the analysis we can conclude that the features \" engine\" and \"horsepower\" are the most important variables that play a key role in affecting the car price. The predicted price using LR and DT are somewhat similar. Our model using these variables are 70-80% accurate and can be used in real life for business analytics.  "
      ],
      "metadata": {
        "id": "QMQQBVTWp95A"
      }
    },
    {
      "cell_type": "code",
      "source": [
        ""
      ],
      "metadata": {
        "id": "RO082ITmtALc"
      },
      "execution_count": null,
      "outputs": []
    }
  ],
  "metadata": {
    "colab": {
      "collapsed_sections": [],
      "name": "Minor_Project.ipynb",
      "provenance": []
    },
    "kernelspec": {
      "display_name": "Python 3",
      "name": "python3"
    },
    "language_info": {
      "name": "python"
    }
  },
  "nbformat": 4,
  "nbformat_minor": 0
}